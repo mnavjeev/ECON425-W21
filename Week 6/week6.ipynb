{
 "metadata": {
  "language_info": {
   "codemirror_mode": {
    "name": "ipython",
    "version": 3
   },
   "file_extension": ".py",
   "mimetype": "text/x-python",
   "name": "python",
   "nbconvert_exporter": "python",
   "pygments_lexer": "ipython3",
   "version": "3.7.4-final"
  },
  "orig_nbformat": 2,
  "kernelspec": {
   "name": "python3",
   "display_name": "Python 3",
   "language": "python"
  }
 },
 "nbformat": 4,
 "nbformat_minor": 2,
 "cells": [
  {
   "source": [
    "# Week 6: Neural Networks\n",
    "\n",
    "Now that we have gone over neural net architecture, we will learn how to implement neural networks in python. "
   ],
   "cell_type": "markdown",
   "metadata": {}
  },
  {
   "cell_type": "code",
   "execution_count": 1,
   "metadata": {},
   "outputs": [],
   "source": [
    "import numpy as np \n",
    "import pandas as pd \n",
    "from sklearn.model_selection import train_test_split\n",
    "from sklearn.metrics import accuracy_score, mean_squared_error \n",
    "\n",
    "# Import the neural network libraries\n",
    "import tensorflow as tf \n"
   ]
  },
  {
   "source": [
    "We will implement the neural network in python using the `tensorflow` library. We will use the data to try and classify a breast tumor as either benign or malignant."
   ],
   "cell_type": "markdown",
   "metadata": {}
  },
  {
   "cell_type": "code",
   "execution_count": 3,
   "metadata": {},
   "outputs": [
    {
     "output_type": "stream",
     "name": "stdout",
     "text": [
      "   id  diagnosis  radius_mean  texture_mean  perimeter_mean  area_mean  \\\n0   1          1        17.99         10.38          122.80     1001.0   \n1   1          1        20.57         17.77          132.90     1326.0   \n2   1          1        19.69         21.25          130.00     1203.0   \n3   1          1        11.42         20.38           77.58      386.1   \n4   1          1        20.29         14.34          135.10     1297.0   \n\n   smoothness_mean  compactness_mean  concavity_mean  concave points_mean  \\\n0          0.11840           0.27760          0.3001              0.14710   \n1          0.08474           0.07864          0.0869              0.07017   \n2          0.10960           0.15990          0.1974              0.12790   \n3          0.14250           0.28390          0.2414              0.10520   \n4          0.10030           0.13280          0.1980              0.10430   \n\n   ...  texture_worst  perimeter_worst  area_worst  smoothness_worst  \\\n0  ...          17.33           184.60      2019.0            0.1622   \n1  ...          23.41           158.80      1956.0            0.1238   \n2  ...          25.53           152.50      1709.0            0.1444   \n3  ...          26.50            98.87       567.7            0.2098   \n4  ...          16.67           152.20      1575.0            0.1374   \n\n   compactness_worst  concavity_worst  concave points_worst  symmetry_worst  \\\n0             0.6656           0.7119                0.2654          0.4601   \n1             0.1866           0.2416                0.1860          0.2750   \n2             0.4245           0.4504                0.2430          0.3613   \n3             0.8663           0.6869                0.2575          0.6638   \n4             0.2050           0.4000                0.1625          0.2364   \n\n   fractal_dimension_worst  Unnamed: 32  \n0                  0.11890          NaN  \n1                  0.08902          NaN  \n2                  0.08758          NaN  \n3                  0.17300          NaN  \n4                  0.07678          NaN  \n\n[5 rows x 33 columns]\nIndex(['id', 'diagnosis', 'radius_mean', 'texture_mean', 'perimeter_mean',\n       'area_mean', 'smoothness_mean', 'compactness_mean', 'concavity_mean',\n       'concave points_mean', 'symmetry_mean', 'fractal_dimension_mean',\n       'radius_se', 'texture_se', 'perimeter_se', 'area_se', 'smoothness_se',\n       'compactness_se', 'concavity_se', 'concave points_se', 'symmetry_se',\n       'fractal_dimension_se', 'radius_worst', 'texture_worst',\n       'perimeter_worst', 'area_worst', 'smoothness_worst',\n       'compactness_worst', 'concavity_worst', 'concave points_worst',\n       'symmetry_worst', 'fractal_dimension_worst', 'Unnamed: 32'],\n      dtype='object')\n"
     ]
    }
   ],
   "source": [
    "cancer = pd.read_csv(\"data.csv\")\n",
    "cancer['diagnosis'] = 1*(cancer['diagnosis'] == \"M\")\n",
    "cancer['id'] = 1\n",
    "print(cancer.head())\n",
    "print(cancer.columns)\n"
   ]
  },
  {
   "source": [
    "Before fitting the data, we must initialize the neural net. We will set up a neural net with an input layer, two fully connected (dense) hidden layers, and a single output. \n",
    "\n",
    "\n",
    "The first hidden layer will have 10 nodes and the second will have 5 nodes. For both hidden layers we willl use a ReLU activation function. The final layer will be an output layer. We want to output a probability, so we want to use the sigmoidal activation function in the last layer as this is bounded between 0 and 1.\n"
   ],
   "cell_type": "markdown",
   "metadata": {}
  },
  {
   "cell_type": "code",
   "execution_count": 18,
   "metadata": {},
   "outputs": [],
   "source": [
    "input = tf.keras.layers.InputLayer(input_shape = (31,))\n",
    "hidden1 = tf.keras.layers.Dense(5, activation = 'relu')\n",
    "hidden2 = tf.keras.layers.Dense(10, activation = 'sigmoid')\n",
    "output = tf.keras.layers.Dense(1, activation = 'sigmoid')\n",
    "model = tf.keras.Sequential([input,hidden1,hidden2, output])\n",
    "model.compile(optimizer = 'adam',loss = tf.keras.losses.MSE, metrics = ['accuracy'])"
   ]
  },
  {
   "source": [
    "Now that we have set up the structure of the model we can fit it using the data"
   ],
   "cell_type": "markdown",
   "metadata": {}
  },
  {
   "cell_type": "code",
   "execution_count": 19,
   "metadata": {
    "tags": []
   },
   "outputs": [
    {
     "output_type": "stream",
     "name": "stdout",
     "text": [
      "Epoch 1/100\n",
      "14/14 [==============================] - 0s 768us/step - loss: 0.2882 - accuracy: 0.3662\n",
      "Epoch 2/100\n",
      "14/14 [==============================] - 0s 697us/step - loss: 0.2183 - accuracy: 0.7441\n",
      "Epoch 3/100\n",
      "14/14 [==============================] - 0s 621us/step - loss: 0.1977 - accuracy: 0.8474\n",
      "Epoch 4/100\n",
      "14/14 [==============================] - 0s 697us/step - loss: 0.1881 - accuracy: 0.8991\n",
      "Epoch 5/100\n",
      "14/14 [==============================] - 0s 929us/step - loss: 0.1844 - accuracy: 0.9061\n",
      "Epoch 6/100\n",
      "14/14 [==============================] - 0s 941us/step - loss: 0.1828 - accuracy: 0.9014\n",
      "Epoch 7/100\n",
      "14/14 [==============================] - 0s 894us/step - loss: 0.1802 - accuracy: 0.9085\n",
      "Epoch 8/100\n",
      "14/14 [==============================] - 0s 790us/step - loss: 0.1798 - accuracy: 0.9085\n",
      "Epoch 9/100\n",
      "14/14 [==============================] - 0s 1ms/step - loss: 0.1772 - accuracy: 0.9108\n",
      "Epoch 10/100\n",
      "14/14 [==============================] - 0s 816us/step - loss: 0.1758 - accuracy: 0.9108\n",
      "Epoch 11/100\n",
      "14/14 [==============================] - 0s 1ms/step - loss: 0.1748 - accuracy: 0.9131\n",
      "Epoch 12/100\n",
      "14/14 [==============================] - 0s 757us/step - loss: 0.1736 - accuracy: 0.9108\n",
      "Epoch 13/100\n",
      "14/14 [==============================] - 0s 851us/step - loss: 0.1790 - accuracy: 0.8803\n",
      "Epoch 14/100\n",
      "14/14 [==============================] - 0s 940us/step - loss: 0.1736 - accuracy: 0.8897\n",
      "Epoch 15/100\n",
      "14/14 [==============================] - 0s 912us/step - loss: 0.1709 - accuracy: 0.9178\n",
      "Epoch 16/100\n",
      "14/14 [==============================] - 0s 812us/step - loss: 0.1699 - accuracy: 0.9085\n",
      "Epoch 17/100\n",
      "14/14 [==============================] - 0s 943us/step - loss: 0.1687 - accuracy: 0.9131\n",
      "Epoch 18/100\n",
      "14/14 [==============================] - 0s 903us/step - loss: 0.1680 - accuracy: 0.9085\n",
      "Epoch 19/100\n",
      "14/14 [==============================] - 0s 981us/step - loss: 0.1670 - accuracy: 0.9108\n",
      "Epoch 20/100\n",
      "14/14 [==============================] - 0s 842us/step - loss: 0.1658 - accuracy: 0.9131\n",
      "Epoch 21/100\n",
      "14/14 [==============================] - 0s 973us/step - loss: 0.1646 - accuracy: 0.9155\n",
      "Epoch 22/100\n",
      "14/14 [==============================] - 0s 1ms/step - loss: 0.1661 - accuracy: 0.8991\n",
      "Epoch 23/100\n",
      "14/14 [==============================] - 0s 927us/step - loss: 0.1639 - accuracy: 0.9178\n",
      "Epoch 24/100\n",
      "14/14 [==============================] - 0s 1ms/step - loss: 0.1626 - accuracy: 0.9131\n",
      "Epoch 25/100\n",
      "14/14 [==============================] - 0s 849us/step - loss: 0.1628 - accuracy: 0.9085\n",
      "Epoch 26/100\n",
      "14/14 [==============================] - 0s 1ms/step - loss: 0.1609 - accuracy: 0.9108\n",
      "Epoch 27/100\n",
      "14/14 [==============================] - 0s 1ms/step - loss: 0.1599 - accuracy: 0.9085\n",
      "Epoch 28/100\n",
      "14/14 [==============================] - 0s 958us/step - loss: 0.1594 - accuracy: 0.9131\n",
      "Epoch 29/100\n",
      "14/14 [==============================] - 0s 1ms/step - loss: 0.1601 - accuracy: 0.8991\n",
      "Epoch 30/100\n",
      "14/14 [==============================] - 0s 767us/step - loss: 0.1579 - accuracy: 0.9155\n",
      "Epoch 31/100\n",
      "14/14 [==============================] - 0s 1ms/step - loss: 0.1572 - accuracy: 0.9085\n",
      "Epoch 32/100\n",
      "14/14 [==============================] - 0s 937us/step - loss: 0.1591 - accuracy: 0.9038\n",
      "Epoch 33/100\n",
      "14/14 [==============================] - 0s 1ms/step - loss: 0.1572 - accuracy: 0.9038\n",
      "Epoch 34/100\n",
      "14/14 [==============================] - 0s 777us/step - loss: 0.1553 - accuracy: 0.8991\n",
      "Epoch 35/100\n",
      "14/14 [==============================] - 0s 1ms/step - loss: 0.1537 - accuracy: 0.9085\n",
      "Epoch 36/100\n",
      "14/14 [==============================] - 0s 781us/step - loss: 0.1514 - accuracy: 0.9225\n",
      "Epoch 37/100\n",
      "14/14 [==============================] - 0s 815us/step - loss: 0.1532 - accuracy: 0.9085\n",
      "Epoch 38/100\n",
      "14/14 [==============================] - 0s 1ms/step - loss: 0.1495 - accuracy: 0.9131\n",
      "Epoch 39/100\n",
      "14/14 [==============================] - 0s 1ms/step - loss: 0.1517 - accuracy: 0.9108\n",
      "Epoch 40/100\n",
      "14/14 [==============================] - 0s 867us/step - loss: 0.1490 - accuracy: 0.9202\n",
      "Epoch 41/100\n",
      "14/14 [==============================] - 0s 1ms/step - loss: 0.1469 - accuracy: 0.9178\n",
      "Epoch 42/100\n",
      "14/14 [==============================] - 0s 911us/step - loss: 0.1453 - accuracy: 0.9178\n",
      "Epoch 43/100\n",
      "14/14 [==============================] - 0s 835us/step - loss: 0.1463 - accuracy: 0.9225\n",
      "Epoch 44/100\n",
      "14/14 [==============================] - 0s 828us/step - loss: 0.1437 - accuracy: 0.9202\n",
      "Epoch 45/100\n",
      "14/14 [==============================] - 0s 1ms/step - loss: 0.1432 - accuracy: 0.9225\n",
      "Epoch 46/100\n",
      "14/14 [==============================] - 0s 787us/step - loss: 0.1433 - accuracy: 0.9202\n",
      "Epoch 47/100\n",
      "14/14 [==============================] - 0s 973us/step - loss: 0.1449 - accuracy: 0.9061\n",
      "Epoch 48/100\n",
      "14/14 [==============================] - 0s 731us/step - loss: 0.1458 - accuracy: 0.9085\n",
      "Epoch 49/100\n",
      "14/14 [==============================] - 0s 788us/step - loss: 0.1428 - accuracy: 0.9131\n",
      "Epoch 50/100\n",
      "14/14 [==============================] - 0s 1ms/step - loss: 0.1406 - accuracy: 0.9202\n",
      "Epoch 51/100\n",
      "14/14 [==============================] - 0s 960us/step - loss: 0.1379 - accuracy: 0.9225\n",
      "Epoch 52/100\n",
      "14/14 [==============================] - 0s 840us/step - loss: 0.1394 - accuracy: 0.9272\n",
      "Epoch 53/100\n",
      "14/14 [==============================] - 0s 966us/step - loss: 0.1402 - accuracy: 0.9131\n",
      "Epoch 54/100\n",
      "14/14 [==============================] - 0s 797us/step - loss: 0.1394 - accuracy: 0.9108\n",
      "Epoch 55/100\n",
      "14/14 [==============================] - 0s 1ms/step - loss: 0.1354 - accuracy: 0.9202\n",
      "Epoch 56/100\n",
      "14/14 [==============================] - 0s 858us/step - loss: 0.1354 - accuracy: 0.9225\n",
      "Epoch 57/100\n",
      "14/14 [==============================] - 0s 965us/step - loss: 0.1341 - accuracy: 0.9178\n",
      "Epoch 58/100\n",
      "14/14 [==============================] - 0s 887us/step - loss: 0.1353 - accuracy: 0.9131\n",
      "Epoch 59/100\n",
      "14/14 [==============================] - 0s 865us/step - loss: 0.1325 - accuracy: 0.9272\n",
      "Epoch 60/100\n",
      "14/14 [==============================] - 0s 902us/step - loss: 0.1312 - accuracy: 0.9272\n",
      "Epoch 61/100\n",
      "14/14 [==============================] - 0s 965us/step - loss: 0.1304 - accuracy: 0.9296\n",
      "Epoch 62/100\n",
      "14/14 [==============================] - 0s 852us/step - loss: 0.1297 - accuracy: 0.9249\n",
      "Epoch 63/100\n",
      "14/14 [==============================] - 0s 1ms/step - loss: 0.1321 - accuracy: 0.9178\n",
      "Epoch 64/100\n",
      "14/14 [==============================] - 0s 855us/step - loss: 0.1328 - accuracy: 0.9178\n",
      "Epoch 65/100\n",
      "14/14 [==============================] - 0s 868us/step - loss: 0.1288 - accuracy: 0.9296\n",
      "Epoch 66/100\n",
      "14/14 [==============================] - 0s 1ms/step - loss: 0.1279 - accuracy: 0.9272\n",
      "Epoch 67/100\n",
      "14/14 [==============================] - 0s 1ms/step - loss: 0.1278 - accuracy: 0.9272\n",
      "Epoch 68/100\n",
      "14/14 [==============================] - 0s 1ms/step - loss: 0.1257 - accuracy: 0.9296\n",
      "Epoch 69/100\n",
      "14/14 [==============================] - 0s 966us/step - loss: 0.1260 - accuracy: 0.9249\n",
      "Epoch 70/100\n",
      "14/14 [==============================] - 0s 877us/step - loss: 0.1251 - accuracy: 0.9272\n",
      "Epoch 71/100\n",
      "14/14 [==============================] - 0s 1ms/step - loss: 0.1251 - accuracy: 0.9249\n",
      "Epoch 72/100\n",
      "14/14 [==============================] - 0s 775us/step - loss: 0.1236 - accuracy: 0.9272\n",
      "Epoch 73/100\n",
      "14/14 [==============================] - 0s 932us/step - loss: 0.1228 - accuracy: 0.9343\n",
      "Epoch 74/100\n",
      "14/14 [==============================] - 0s 844us/step - loss: 0.1267 - accuracy: 0.9202\n",
      "Epoch 75/100\n",
      "14/14 [==============================] - 0s 1ms/step - loss: 0.1230 - accuracy: 0.9225\n",
      "Epoch 76/100\n",
      "14/14 [==============================] - 0s 848us/step - loss: 0.1218 - accuracy: 0.9296\n",
      "Epoch 77/100\n",
      "14/14 [==============================] - 0s 816us/step - loss: 0.1218 - accuracy: 0.9296\n",
      "Epoch 78/100\n",
      "14/14 [==============================] - 0s 905us/step - loss: 0.1222 - accuracy: 0.9249\n",
      "Epoch 79/100\n",
      "14/14 [==============================] - 0s 989us/step - loss: 0.1214 - accuracy: 0.9225\n",
      "Epoch 80/100\n",
      "14/14 [==============================] - 0s 787us/step - loss: 0.1184 - accuracy: 0.9296\n",
      "Epoch 81/100\n",
      "14/14 [==============================] - 0s 1ms/step - loss: 0.1179 - accuracy: 0.9319\n",
      "Epoch 82/100\n",
      "14/14 [==============================] - 0s 897us/step - loss: 0.1190 - accuracy: 0.9225\n",
      "Epoch 83/100\n",
      "14/14 [==============================] - 0s 1ms/step - loss: 0.1190 - accuracy: 0.9272\n",
      "Epoch 84/100\n",
      "14/14 [==============================] - 0s 1ms/step - loss: 0.1172 - accuracy: 0.9296\n",
      "Epoch 85/100\n",
      "14/14 [==============================] - 0s 906us/step - loss: 0.1182 - accuracy: 0.9249\n",
      "Epoch 86/100\n",
      "14/14 [==============================] - 0s 1ms/step - loss: 0.1184 - accuracy: 0.9108\n",
      "Epoch 87/100\n",
      "14/14 [==============================] - 0s 1ms/step - loss: 0.1148 - accuracy: 0.9319\n",
      "Epoch 88/100\n",
      "14/14 [==============================] - 0s 1ms/step - loss: 0.1142 - accuracy: 0.9272\n",
      "Epoch 89/100\n",
      "14/14 [==============================] - 0s 1ms/step - loss: 0.1150 - accuracy: 0.9249\n",
      "Epoch 90/100\n",
      "14/14 [==============================] - 0s 1ms/step - loss: 0.1133 - accuracy: 0.9272\n",
      "Epoch 91/100\n",
      "14/14 [==============================] - 0s 1ms/step - loss: 0.1147 - accuracy: 0.9225\n",
      "Epoch 92/100\n",
      "14/14 [==============================] - 0s 2ms/step - loss: 0.1164 - accuracy: 0.9155\n",
      "Epoch 93/100\n",
      "14/14 [==============================] - 0s 1ms/step - loss: 0.1118 - accuracy: 0.9319\n",
      "Epoch 94/100\n",
      "14/14 [==============================] - 0s 1ms/step - loss: 0.1111 - accuracy: 0.9319\n",
      "Epoch 95/100\n",
      "14/14 [==============================] - 0s 1ms/step - loss: 0.1102 - accuracy: 0.9319\n",
      "Epoch 96/100\n",
      "14/14 [==============================] - 0s 1ms/step - loss: 0.1102 - accuracy: 0.9319\n",
      "Epoch 97/100\n",
      "14/14 [==============================] - 0s 972us/step - loss: 0.1092 - accuracy: 0.9319\n",
      "Epoch 98/100\n",
      "14/14 [==============================] - 0s 1ms/step - loss: 0.1094 - accuracy: 0.9296\n",
      "Epoch 99/100\n",
      "14/14 [==============================] - 0s 1ms/step - loss: 0.1106 - accuracy: 0.9249\n",
      "Epoch 100/100\n",
      "14/14 [==============================] - 0s 1ms/step - loss: 0.1082 - accuracy: 0.9343\n"
     ]
    },
    {
     "output_type": "execute_result",
     "data": {
      "text/plain": [
       "<tensorflow.python.keras.callbacks.History at 0x7fcf09da5890>"
      ]
     },
     "metadata": {},
     "execution_count": 19
    }
   ],
   "source": [
    "X = cancer.drop(columns=['diagnosis','Unnamed: 32'])\n",
    "Y = cancer.diagnosis\n",
    "X_train, X_test, Y_train, Y_test = train_test_split(X,Y)\n",
    "\n",
    "model.fit(X_train,Y_train,epochs = 100)\n",
    "\n",
    "\n"
   ]
  },
  {
   "source": [
    "And evaluate it's preformance"
   ],
   "cell_type": "markdown",
   "metadata": {}
  },
  {
   "cell_type": "code",
   "execution_count": 20,
   "metadata": {},
   "outputs": [
    {
     "output_type": "stream",
     "name": "stdout",
     "text": [
      "5/5 - 0s - loss: 0.1143 - accuracy: 0.9231\n",
      "0.9230769276618958\n",
      "0.40559440559440557\n"
     ]
    }
   ],
   "source": [
    "test_loss, test_acc = model.evaluate(X_test, Y_test, verbose =2)\n",
    "print(test_acc)\n",
    "print(np.mean(Y_test))"
   ]
  },
  {
   "cell_type": "code",
   "execution_count": null,
   "metadata": {},
   "outputs": [],
   "source": []
  }
 ]
}