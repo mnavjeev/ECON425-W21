{
 "metadata": {
  "language_info": {
   "codemirror_mode": {
    "name": "ipython",
    "version": 3
   },
   "file_extension": ".py",
   "mimetype": "text/x-python",
   "name": "python",
   "nbconvert_exporter": "python",
   "pygments_lexer": "ipython3",
   "version": "3.7.4-final"
  },
  "orig_nbformat": 2,
  "kernelspec": {
   "name": "python3",
   "display_name": "Python 3.7.4 64-bit ('base': conda)",
   "metadata": {
    "interpreter": {
     "hash": "108527f9cb1bb1ccc1ec9b7ead991ffae931b29776782b7d6313705e7dd6f31e"
    }
   }
  }
 },
 "nbformat": 4,
 "nbformat_minor": 2,
 "cells": [
  {
   "source": [
    "# Week 8: Recurrent Neural Networks\n",
    "\n",
    "In the example below we will cover how to implement a recurrent neural network using TensorFlow. For this example we will use data on Bengaldeshi economic indicators from 1980-2019."
   ],
   "cell_type": "markdown",
   "metadata": {}
  },
  {
   "cell_type": "code",
   "execution_count": 12,
   "metadata": {},
   "outputs": [
    {
     "output_type": "execute_result",
     "data": {
      "text/plain": [
       "   Year  GDP growth  Inflation rate  Total Investment\n",
       "0  1980       0.031           0.154            0.1444\n",
       "1  1981       0.056           0.145            0.1716\n",
       "2  1982       0.032           0.129            0.1736\n",
       "3  1983       0.046           0.095            0.1656\n",
       "4  1984       0.042           0.104            0.1648"
      ],
      "text/html": "<div>\n<style scoped>\n    .dataframe tbody tr th:only-of-type {\n        vertical-align: middle;\n    }\n\n    .dataframe tbody tr th {\n        vertical-align: top;\n    }\n\n    .dataframe thead th {\n        text-align: right;\n    }\n</style>\n<table border=\"1\" class=\"dataframe\">\n  <thead>\n    <tr style=\"text-align: right;\">\n      <th></th>\n      <th>Year</th>\n      <th>GDP growth</th>\n      <th>Inflation rate</th>\n      <th>Total Investment</th>\n    </tr>\n  </thead>\n  <tbody>\n    <tr>\n      <td>0</td>\n      <td>1980</td>\n      <td>0.031</td>\n      <td>0.154</td>\n      <td>0.1444</td>\n    </tr>\n    <tr>\n      <td>1</td>\n      <td>1981</td>\n      <td>0.056</td>\n      <td>0.145</td>\n      <td>0.1716</td>\n    </tr>\n    <tr>\n      <td>2</td>\n      <td>1982</td>\n      <td>0.032</td>\n      <td>0.129</td>\n      <td>0.1736</td>\n    </tr>\n    <tr>\n      <td>3</td>\n      <td>1983</td>\n      <td>0.046</td>\n      <td>0.095</td>\n      <td>0.1656</td>\n    </tr>\n    <tr>\n      <td>4</td>\n      <td>1984</td>\n      <td>0.042</td>\n      <td>0.104</td>\n      <td>0.1648</td>\n    </tr>\n  </tbody>\n</table>\n</div>"
     },
     "metadata": {},
     "execution_count": 12
    }
   ],
   "source": [
    "import numpy as np\n",
    "import pandas as pd\n",
    "from tensorflow import keras\n",
    "from tensorflow.keras import layers\n",
    "def p2f(x):\n",
    "    return float(x.strip('%'))/100\n",
    "bd = pd.read_csv(\"BD_economic_indicators.csv\", converters={'GDP growth':p2f, 'Inflation rate':p2f, 'Total Investment':p2f})[['Year','GDP growth','Inflation rate','Total Investment']]\n",
    "bd.head()"
   ]
  },
  {
   "source": [
    "We will use the inflation rate and total investment to predict that GDP growth rate. "
   ],
   "cell_type": "markdown",
   "metadata": {}
  },
  {
   "cell_type": "code",
   "execution_count": 18,
   "metadata": {},
   "outputs": [],
   "source": [
    "X = bd[['Inflation rate','Total Investment']]\n",
    "Y = bd['GDP growth']\n",
    "\n",
    "Xtrain = X[0:35]\n",
    "Xtest = X[35:39]\n",
    "Ytrain = Y[0:35]\n",
    "Ytest = Y[35:39]\n"
   ]
  },
  {
   "source": [
    "We will use the pre-defined keras.layers.SimpleRNN object to build our recurrent neural network. This object implements a fully connected RNN layer where the output from a previous (time)step is fed onto the next timestep. "
   ],
   "cell_type": "markdown",
   "metadata": {}
  },
  {
   "cell_type": "code",
   "execution_count": 79,
   "metadata": {},
   "outputs": [
    {
     "output_type": "stream",
     "name": "stdout",
     "text": [
      "Model: \"sequential_52\"\n_________________________________________________________________\nLayer (type)                 Output Shape              Param #   \n=================================================================\nembedding_8 (Embedding)      (None, 2, 2)              4         \n_________________________________________________________________\nsimple_rnn_43 (SimpleRNN)    (None, 1)                 4         \n_________________________________________________________________\ndense_67 (Dense)             (None, 2)                 4         \n_________________________________________________________________\ndense_68 (Dense)             (None, 1)                 3         \n=================================================================\nTotal params: 15\nTrainable params: 15\nNon-trainable params: 0\n_________________________________________________________________\n"
     ]
    }
   ],
   "source": [
    "model = keras.Sequential()\n",
    "\n",
    "inp = keras.Input(shape = (2,))\n",
    "embedding = layers.Embedding(input_dim = 2, output_dim= 2) # This is \n",
    "hiddenLayer = layers.Dense(2, activation = 'sigmoid')\n",
    "recurrent = layers.SimpleRNN(1)\n",
    "output = layers.Dense(1, activation = 'sigmoid')\n",
    "model.add(inp)\n",
    "model.add(embedding)\n",
    "model.add(recurrent)\n",
    "model.add(hiddenLayer)\n",
    "model.add(output)\n",
    "model.summary()\n"
   ]
  },
  {
   "source": [
    "We are now ready to compile and fit our model\n",
    "\n"
   ],
   "cell_type": "markdown",
   "metadata": {}
  },
  {
   "cell_type": "code",
   "execution_count": 94,
   "metadata": {},
   "outputs": [
    {
     "output_type": "stream",
     "name": "stdout",
     "text": [
      "Epoch 1/100\n",
      "2/2 [==============================] - 0s 2ms/step - loss: 1.0994e-04 - kullback_leibler_divergence: 0.0021\n",
      "Epoch 2/100\n",
      "2/2 [==============================] - 0s 2ms/step - loss: 1.0991e-04 - kullback_leibler_divergence: 0.0020\n",
      "Epoch 3/100\n",
      "2/2 [==============================] - 0s 2ms/step - loss: 1.0974e-04 - kullback_leibler_divergence: 0.0019\n",
      "Epoch 4/100\n",
      "2/2 [==============================] - 0s 1ms/step - loss: 1.0971e-04 - kullback_leibler_divergence: 0.0019\n",
      "Epoch 5/100\n",
      "2/2 [==============================] - 0s 1ms/step - loss: 1.0966e-04 - kullback_leibler_divergence: 0.0018\n",
      "Epoch 6/100\n",
      "2/2 [==============================] - 0s 1ms/step - loss: 1.0962e-04 - kullback_leibler_divergence: 0.0018\n",
      "Epoch 7/100\n",
      "2/2 [==============================] - 0s 1ms/step - loss: 1.0951e-04 - kullback_leibler_divergence: 0.0017\n",
      "Epoch 8/100\n",
      "2/2 [==============================] - 0s 1ms/step - loss: 1.0948e-04 - kullback_leibler_divergence: 0.0016\n",
      "Epoch 9/100\n",
      "2/2 [==============================] - 0s 1ms/step - loss: 1.0941e-04 - kullback_leibler_divergence: 0.0015\n",
      "Epoch 10/100\n",
      "2/2 [==============================] - 0s 1ms/step - loss: 1.0949e-04 - kullback_leibler_divergence: 0.0014\n",
      "Epoch 11/100\n",
      "2/2 [==============================] - 0s 1ms/step - loss: 1.0945e-04 - kullback_leibler_divergence: 0.0013\n",
      "Epoch 12/100\n",
      "2/2 [==============================] - 0s 1ms/step - loss: 1.0942e-04 - kullback_leibler_divergence: 0.0012\n",
      "Epoch 13/100\n",
      "2/2 [==============================] - 0s 1ms/step - loss: 1.0948e-04 - kullback_leibler_divergence: 0.0011\n",
      "Epoch 14/100\n",
      "2/2 [==============================] - 0s 1ms/step - loss: 1.0951e-04 - kullback_leibler_divergence: 0.0011\n",
      "Epoch 15/100\n",
      "2/2 [==============================] - 0s 1ms/step - loss: 1.0951e-04 - kullback_leibler_divergence: 0.0010\n",
      "Epoch 16/100\n",
      "2/2 [==============================] - 0s 1ms/step - loss: 1.0954e-04 - kullback_leibler_divergence: 9.9009e-04\n",
      "Epoch 17/100\n",
      "2/2 [==============================] - 0s 1ms/step - loss: 1.0957e-04 - kullback_leibler_divergence: 9.3819e-04\n",
      "Epoch 18/100\n",
      "2/2 [==============================] - 0s 1ms/step - loss: 1.0964e-04 - kullback_leibler_divergence: 8.8715e-04\n",
      "Epoch 19/100\n",
      "2/2 [==============================] - 0s 1ms/step - loss: 1.0964e-04 - kullback_leibler_divergence: 8.6015e-04\n",
      "Epoch 20/100\n",
      "2/2 [==============================] - 0s 1ms/step - loss: 1.0962e-04 - kullback_leibler_divergence: 8.6856e-04\n",
      "Epoch 21/100\n",
      "2/2 [==============================] - 0s 1ms/step - loss: 1.0960e-04 - kullback_leibler_divergence: 9.1925e-04\n",
      "Epoch 22/100\n",
      "2/2 [==============================] - 0s 1ms/step - loss: 1.0957e-04 - kullback_leibler_divergence: 9.8900e-04\n",
      "Epoch 23/100\n",
      "2/2 [==============================] - 0s 1ms/step - loss: 1.0955e-04 - kullback_leibler_divergence: 0.0010 \n",
      "Epoch 24/100\n",
      "2/2 [==============================] - 0s 1ms/step - loss: 1.0951e-04 - kullback_leibler_divergence: 0.0010\n",
      "Epoch 25/100\n",
      "2/2 [==============================] - 0s 1ms/step - loss: 1.0952e-04 - kullback_leibler_divergence: 0.0010\n",
      "Epoch 26/100\n",
      "2/2 [==============================] - 0s 1ms/step - loss: 1.0960e-04 - kullback_leibler_divergence: 9.5098e-04\n",
      "Epoch 27/100\n",
      "2/2 [==============================] - 0s 1ms/step - loss: 1.0960e-04 - kullback_leibler_divergence: 9.1357e-04\n",
      "Epoch 28/100\n",
      "2/2 [==============================] - 0s 1ms/step - loss: 1.0963e-04 - kullback_leibler_divergence: 8.9339e-04\n",
      "Epoch 29/100\n",
      "2/2 [==============================] - 0s 2ms/step - loss: 1.0962e-04 - kullback_leibler_divergence: 8.8808e-04\n",
      "Epoch 30/100\n",
      "2/2 [==============================] - 0s 1ms/step - loss: 1.0961e-04 - kullback_leibler_divergence: 8.9396e-04\n",
      "Epoch 31/100\n",
      "2/2 [==============================] - 0s 1ms/step - loss: 1.0960e-04 - kullback_leibler_divergence: 9.0596e-04\n",
      "Epoch 32/100\n",
      "2/2 [==============================] - 0s 1ms/step - loss: 1.0962e-04 - kullback_leibler_divergence: 9.4090e-04\n",
      "Epoch 33/100\n",
      "2/2 [==============================] - 0s 2ms/step - loss: 1.0956e-04 - kullback_leibler_divergence: 9.5546e-04\n",
      "Epoch 34/100\n",
      "2/2 [==============================] - 0s 2ms/step - loss: 1.0961e-04 - kullback_leibler_divergence: 9.2789e-04\n",
      "Epoch 35/100\n",
      "2/2 [==============================] - 0s 1ms/step - loss: 1.0961e-04 - kullback_leibler_divergence: 9.0733e-04\n",
      "Epoch 36/100\n",
      "2/2 [==============================] - 0s 2ms/step - loss: 1.0961e-04 - kullback_leibler_divergence: 8.9323e-04\n",
      "Epoch 37/100\n",
      "2/2 [==============================] - 0s 2ms/step - loss: 1.0963e-04 - kullback_leibler_divergence: 8.7223e-04\n",
      "Epoch 38/100\n",
      "2/2 [==============================] - 0s 2ms/step - loss: 1.0964e-04 - kullback_leibler_divergence: 8.6391e-04\n",
      "Epoch 39/100\n",
      "2/2 [==============================] - 0s 1ms/step - loss: 1.0963e-04 - kullback_leibler_divergence: 8.7274e-04\n",
      "Epoch 40/100\n",
      "2/2 [==============================] - 0s 1ms/step - loss: 1.0961e-04 - kullback_leibler_divergence: 8.9630e-04\n",
      "Epoch 41/100\n",
      "2/2 [==============================] - 0s 1ms/step - loss: 1.0958e-04 - kullback_leibler_divergence: 9.2395e-04\n",
      "Epoch 42/100\n",
      "2/2 [==============================] - 0s 2ms/step - loss: 1.0954e-04 - kullback_leibler_divergence: 9.6809e-04\n",
      "Epoch 43/100\n",
      "2/2 [==============================] - 0s 2ms/step - loss: 1.0951e-04 - kullback_leibler_divergence: 0.0010\n",
      "Epoch 44/100\n",
      "2/2 [==============================] - 0s 2ms/step - loss: 1.0948e-04 - kullback_leibler_divergence: 0.0011\n",
      "Epoch 45/100\n",
      "2/2 [==============================] - 0s 1ms/step - loss: 1.0951e-04 - kullback_leibler_divergence: 0.0012\n",
      "Epoch 46/100\n",
      "2/2 [==============================] - 0s 1ms/step - loss: 1.0945e-04 - kullback_leibler_divergence: 0.0012\n",
      "Epoch 47/100\n",
      "2/2 [==============================] - 0s 1ms/step - loss: 1.0946e-04 - kullback_leibler_divergence: 0.0012\n",
      "Epoch 48/100\n",
      "2/2 [==============================] - 0s 1ms/step - loss: 1.0944e-04 - kullback_leibler_divergence: 0.0013\n",
      "Epoch 49/100\n",
      "2/2 [==============================] - 0s 1ms/step - loss: 1.0943e-04 - kullback_leibler_divergence: 0.0013\n",
      "Epoch 50/100\n",
      "2/2 [==============================] - 0s 1ms/step - loss: 1.0946e-04 - kullback_leibler_divergence: 0.0014\n",
      "Epoch 51/100\n",
      "2/2 [==============================] - 0s 2ms/step - loss: 1.0944e-04 - kullback_leibler_divergence: 0.0014\n",
      "Epoch 52/100\n",
      "2/2 [==============================] - 0s 1ms/step - loss: 1.0945e-04 - kullback_leibler_divergence: 0.0014\n",
      "Epoch 53/100\n",
      "2/2 [==============================] - 0s 2ms/step - loss: 1.0942e-04 - kullback_leibler_divergence: 0.0015\n",
      "Epoch 54/100\n",
      "2/2 [==============================] - 0s 2ms/step - loss: 1.0958e-04 - kullback_leibler_divergence: 0.0016\n",
      "Epoch 55/100\n",
      "2/2 [==============================] - 0s 1ms/step - loss: 1.0949e-04 - kullback_leibler_divergence: 0.0016\n",
      "Epoch 56/100\n",
      "2/2 [==============================] - 0s 1ms/step - loss: 1.0957e-04 - kullback_leibler_divergence: 0.0017\n",
      "Epoch 57/100\n",
      "2/2 [==============================] - 0s 1ms/step - loss: 1.0969e-04 - kullback_leibler_divergence: 0.0018\n",
      "Epoch 58/100\n",
      "2/2 [==============================] - 0s 1ms/step - loss: 1.0970e-04 - kullback_leibler_divergence: 0.0019\n",
      "Epoch 59/100\n",
      "2/2 [==============================] - 0s 2ms/step - loss: 1.0972e-04 - kullback_leibler_divergence: 0.0019\n",
      "Epoch 60/100\n",
      "2/2 [==============================] - 0s 1ms/step - loss: 1.0981e-04 - kullback_leibler_divergence: 0.0020\n",
      "Epoch 61/100\n",
      "2/2 [==============================] - 0s 2ms/step - loss: 1.0990e-04 - kullback_leibler_divergence: 0.0020\n",
      "Epoch 62/100\n",
      "2/2 [==============================] - 0s 2ms/step - loss: 1.0991e-04 - kullback_leibler_divergence: 0.0020\n",
      "Epoch 63/100\n",
      "2/2 [==============================] - 0s 1ms/step - loss: 1.0989e-04 - kullback_leibler_divergence: 0.0020\n",
      "Epoch 64/100\n",
      "2/2 [==============================] - 0s 1ms/step - loss: 1.0987e-04 - kullback_leibler_divergence: 0.0020\n",
      "Epoch 65/100\n",
      "2/2 [==============================] - 0s 1ms/step - loss: 1.0981e-04 - kullback_leibler_divergence: 0.0020\n",
      "Epoch 66/100\n",
      "2/2 [==============================] - 0s 1ms/step - loss: 1.0979e-04 - kullback_leibler_divergence: 0.0019\n",
      "Epoch 67/100\n",
      "2/2 [==============================] - 0s 1ms/step - loss: 1.0976e-04 - kullback_leibler_divergence: 0.0019\n",
      "Epoch 68/100\n",
      "2/2 [==============================] - 0s 2ms/step - loss: 1.0976e-04 - kullback_leibler_divergence: 0.0019\n",
      "Epoch 69/100\n",
      "2/2 [==============================] - 0s 1ms/step - loss: 1.0974e-04 - kullback_leibler_divergence: 0.0019\n",
      "Epoch 70/100\n",
      "2/2 [==============================] - 0s 2ms/step - loss: 1.0973e-04 - kullback_leibler_divergence: 0.0019\n",
      "Epoch 71/100\n",
      "2/2 [==============================] - 0s 1ms/step - loss: 1.0968e-04 - kullback_leibler_divergence: 0.0018\n",
      "Epoch 72/100\n",
      "2/2 [==============================] - 0s 1ms/step - loss: 1.0965e-04 - kullback_leibler_divergence: 0.0018\n",
      "Epoch 73/100\n",
      "2/2 [==============================] - 0s 2ms/step - loss: 1.0965e-04 - kullback_leibler_divergence: 0.0018\n",
      "Epoch 74/100\n",
      "2/2 [==============================] - 0s 2ms/step - loss: 1.0959e-04 - kullback_leibler_divergence: 0.0017\n",
      "Epoch 75/100\n",
      "2/2 [==============================] - 0s 2ms/step - loss: 1.0956e-04 - kullback_leibler_divergence: 0.0017\n",
      "Epoch 76/100\n",
      "2/2 [==============================] - 0s 2ms/step - loss: 1.0953e-04 - kullback_leibler_divergence: 0.0017\n",
      "Epoch 77/100\n",
      "2/2 [==============================] - 0s 2ms/step - loss: 1.0944e-04 - kullback_leibler_divergence: 0.0016\n",
      "Epoch 78/100\n",
      "2/2 [==============================] - 0s 2ms/step - loss: 1.0944e-04 - kullback_leibler_divergence: 0.0015\n",
      "Epoch 79/100\n",
      "2/2 [==============================] - 0s 1ms/step - loss: 1.0948e-04 - kullback_leibler_divergence: 0.0014\n",
      "Epoch 80/100\n",
      "2/2 [==============================] - 0s 1ms/step - loss: 1.0940e-04 - kullback_leibler_divergence: 0.0013\n",
      "Epoch 81/100\n",
      "2/2 [==============================] - 0s 1ms/step - loss: 1.0949e-04 - kullback_leibler_divergence: 0.0012\n",
      "Epoch 82/100\n",
      "2/2 [==============================] - 0s 2ms/step - loss: 1.0946e-04 - kullback_leibler_divergence: 0.0011\n",
      "Epoch 83/100\n",
      "2/2 [==============================] - 0s 2ms/step - loss: 1.0955e-04 - kullback_leibler_divergence: 0.0011\n",
      "Epoch 84/100\n",
      "2/2 [==============================] - 0s 1ms/step - loss: 1.0951e-04 - kullback_leibler_divergence: 0.0010\n",
      "Epoch 85/100\n",
      "2/2 [==============================] - 0s 1ms/step - loss: 1.0953e-04 - kullback_leibler_divergence: 0.0010\n",
      "Epoch 86/100\n",
      "2/2 [==============================] - 0s 1ms/step - loss: 1.0954e-04 - kullback_leibler_divergence: 0.0011\n",
      "Epoch 87/100\n",
      "2/2 [==============================] - 0s 2ms/step - loss: 1.0951e-04 - kullback_leibler_divergence: 0.0011\n",
      "Epoch 88/100\n",
      "2/2 [==============================] - 0s 2ms/step - loss: 1.0952e-04 - kullback_leibler_divergence: 0.0011\n",
      "Epoch 89/100\n",
      "2/2 [==============================] - 0s 3ms/step - loss: 1.0950e-04 - kullback_leibler_divergence: 0.0011\n",
      "Epoch 90/100\n",
      "2/2 [==============================] - 0s 2ms/step - loss: 1.0951e-04 - kullback_leibler_divergence: 0.0011\n",
      "Epoch 91/100\n",
      "2/2 [==============================] - 0s 2ms/step - loss: 1.0951e-04 - kullback_leibler_divergence: 0.0010\n",
      "Epoch 92/100\n",
      "2/2 [==============================] - 0s 2ms/step - loss: 1.0952e-04 - kullback_leibler_divergence: 0.0010\n",
      "Epoch 93/100\n",
      "2/2 [==============================] - 0s 2ms/step - loss: 1.0953e-04 - kullback_leibler_divergence: 0.0010\n",
      "Epoch 94/100\n",
      "2/2 [==============================] - 0s 1ms/step - loss: 1.0954e-04 - kullback_leibler_divergence: 9.7618e-04\n",
      "Epoch 95/100\n",
      "2/2 [==============================] - 0s 2ms/step - loss: 1.0964e-04 - kullback_leibler_divergence: 9.3409e-04\n",
      "Epoch 96/100\n",
      "2/2 [==============================] - 0s 1ms/step - loss: 1.0957e-04 - kullback_leibler_divergence: 9.2645e-04\n",
      "Epoch 97/100\n",
      "2/2 [==============================] - 0s 2ms/step - loss: 1.0958e-04 - kullback_leibler_divergence: 9.7764e-04\n",
      "Epoch 98/100\n",
      "2/2 [==============================] - 0s 1ms/step - loss: 1.0953e-04 - kullback_leibler_divergence: 0.0010\n",
      "Epoch 99/100\n",
      "2/2 [==============================] - 0s 1ms/step - loss: 1.0949e-04 - kullback_leibler_divergence: 0.0011\n",
      "Epoch 100/100\n",
      "2/2 [==============================] - 0s 1ms/step - loss: 1.0950e-04 - kullback_leibler_divergence: 0.0011\n",
      "WARNING:tensorflow:10 out of the last 11 calls to <function Model.make_predict_function.<locals>.predict_function at 0x7f9289901320> triggered tf.function retracing. Tracing is expensive and the excessive number of tracings could be due to (1) creating @tf.function repeatedly in a loop, (2) passing tensors with different shapes, (3) passing Python objects instead of tensors. For (1), please define your @tf.function outside of the loop. For (2), @tf.function has experimental_relax_shapes=True option that relaxes argument shapes that can avoid unnecessary retracing. For (3), please refer to https://www.tensorflow.org/tutorials/customization/performance#python_or_tensor_args and https://www.tensorflow.org/api_docs/python/tf/function for  more details.\n"
     ]
    },
    {
     "output_type": "execute_result",
     "data": {
      "text/plain": [
       "array([[0.05001646],\n",
       "       [0.05001646],\n",
       "       [0.05001646],\n",
       "       [0.05001646]], dtype=float32)"
      ]
     },
     "metadata": {},
     "execution_count": 94
    }
   ],
   "source": [
    "model.compile(optimizer=\"adam\", loss = keras.losses.MSLE, metrics = [keras.metrics.KLDivergence()])\n",
    "model.fit(Xtrain,Ytrain, epochs = 100)\n",
    "\n",
    "model.save_weights('rnn')\n",
    "model.load_weights('rnn')\n",
    "\n",
    "model.predict(Xtest)\n"
   ]
  },
  {
   "cell_type": "code",
   "execution_count": null,
   "metadata": {},
   "outputs": [],
   "source": []
  }
 ]
}