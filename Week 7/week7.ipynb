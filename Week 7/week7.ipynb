{
 "metadata": {
  "language_info": {
   "codemirror_mode": {
    "name": "ipython",
    "version": 3
   },
   "file_extension": ".py",
   "mimetype": "text/x-python",
   "name": "python",
   "nbconvert_exporter": "python",
   "pygments_lexer": "ipython3",
   "version": "3.7.4-final"
  },
  "orig_nbformat": 2,
  "kernelspec": {
   "name": "python3",
   "display_name": "Python 3",
   "language": "python"
  }
 },
 "nbformat": 4,
 "nbformat_minor": 2,
 "cells": [
  {
   "source": [
    "# Week 7: Neural Networks with TensorFlow\n",
    "\n",
    "This week we will go over how to use TensorFlow to implement a neural network\n"
   ],
   "cell_type": "markdown",
   "metadata": {}
  },
  {
   "cell_type": "code",
   "execution_count": 100,
   "metadata": {},
   "outputs": [],
   "source": [
    "import tensorflow as tf\n",
    "from tensorflow import keras\n",
    "from tensorflow.keras import layers"
   ]
  },
  {
   "source": [
    "For now, we will be working with the Sequential neural network class in keras. A sequential neural net is one where each layer takes in a single set of inputs and outputs a single set of outputs. When our input is a vector (as has been the case so far) we can think of this as each layer taking in a single input matrix and outputing a single output matrix, where the input matrix has shape \n",
    "$$\\text{(number of neurons in past layer)} \\times \\text{(number of neurons in this layer)}$$\n",
    "and the output matrix has shape\n",
    "$$\\text{(number of neurons in this layer)} \\times \\text{(number of neurons in next layer)}$$\n",
    "Non zero entries in these matrices will indicate that the output from a neuron in a prior layer is being passed to a neuron in the next layer.\n",
    "\n",
    "We can initialize this neural network using `model = keras.Sequential()`\n"
   ],
   "cell_type": "markdown",
   "metadata": {}
  },
  {
   "cell_type": "code",
   "execution_count": 101,
   "metadata": {},
   "outputs": [],
   "source": [
    "model = keras.Sequential()"
   ]
  },
  {
   "source": [
    "Now that we have initiallized our model as a sequential neural network, we want to start to add layers to this neural net. To initialize a dense layer we can use \n",
    "\n",
    "``layers.Dense(num_neurons)``\n",
    "\n",
    "A Dense layer means each neuron will take in all the inputs from the past layer (input matrix is fully non-zero). There are a few other options we can use when initializing a layer:\n",
    "\n",
    "`` use_bias = True/False``\n",
    "\n",
    "This specifies whether the neurons in this layer will use a bias term. By default use_bias is set to be True. \n",
    "\n",
    "`` activation = \"relu\"/\"sigmoid\"/etc.``\n",
    "\n",
    "This specifies what activation function is used in the layer. If this is left unspecified, then we will use a linear activation function $\\pi(x) = x$.\n",
    "\n",
    "We also may want to specify the shape of the initial input. We can do this using \n",
    "\n",
    "``keras.Input(shape = ())``\n",
    "\n",
    "In this particular case we will be using 4 features to clasify penguins, so we specify our input shape as (4,)"
   ],
   "cell_type": "markdown",
   "metadata": {}
  },
  {
   "cell_type": "code",
   "execution_count": 102,
   "metadata": {},
   "outputs": [],
   "source": [
    "input = keras.Input(shape = (4,))\n",
    "layer1 = layers.Dense(2, use_bias = True, activation = \"sigmoid\")\n",
    "layer2 = layers.Dense(10, use_bias = True, activation = \"relu\")\n",
    "layer3 = layers.Dense(20, use_bias = False)\n",
    "output = layers.Dense(1, use_bias = True, activation = \"sigmoid\")"
   ]
  },
  {
   "source": [
    "Once we have set up our layers, we can add them to our neural network using `model.add()`\n"
   ],
   "cell_type": "markdown",
   "metadata": {}
  },
  {
   "cell_type": "code",
   "execution_count": 103,
   "metadata": {},
   "outputs": [],
   "source": [
    "model.add(input)\n",
    "model.add(layer1)\n",
    "model.add(layer2)\n",
    "model.add(layer3)"
   ]
  },
  {
   "source": [
    "We can remove the last layer by using `model.pop()`"
   ],
   "cell_type": "markdown",
   "metadata": {}
  },
  {
   "cell_type": "code",
   "execution_count": 104,
   "metadata": {},
   "outputs": [
    {
     "output_type": "stream",
     "name": "stdout",
     "text": [
      "3\n2\n"
     ]
    }
   ],
   "source": [
    "print(len(model.layers))\n",
    "model.pop()\n",
    "print(len(model.layers))\n",
    "\n"
   ]
  },
  {
   "source": [
    "At this point we can add the output layer"
   ],
   "cell_type": "markdown",
   "metadata": {}
  },
  {
   "cell_type": "code",
   "execution_count": 105,
   "metadata": {},
   "outputs": [],
   "source": [
    "model.add(output)"
   ]
  },
  {
   "source": [
    "Our model is now initialized. We can use the `model.summary()` model to take a look at the layers in our model"
   ],
   "cell_type": "markdown",
   "metadata": {}
  },
  {
   "cell_type": "code",
   "execution_count": 106,
   "metadata": {},
   "outputs": [
    {
     "output_type": "stream",
     "name": "stdout",
     "text": [
      "Model: \"sequential_5\"\n_________________________________________________________________\nLayer (type)                 Output Shape              Param #   \n=================================================================\ndense_42 (Dense)             (None, 2)                 10        \n_________________________________________________________________\ndense_43 (Dense)             (None, 10)                30        \n_________________________________________________________________\ndense_45 (Dense)             (None, 1)                 11        \n=================================================================\nTotal params: 51\nTrainable params: 51\nNon-trainable params: 0\n_________________________________________________________________\n"
     ]
    }
   ],
   "source": [
    "model.summary()"
   ]
  },
  {
   "source": [
    "and the `model.weights` attribute to see what (random) weights the model has been initialized with"
   ],
   "cell_type": "markdown",
   "metadata": {}
  },
  {
   "cell_type": "code",
   "execution_count": 107,
   "metadata": {},
   "outputs": [
    {
     "output_type": "execute_result",
     "data": {
      "text/plain": [
       "[<tf.Variable 'dense_42/kernel:0' shape=(4, 2) dtype=float32, numpy=\n",
       " array([[-0.79385805, -0.17703986],\n",
       "        [ 0.05690479, -0.1694057 ],\n",
       "        [-0.20957494, -0.74130917],\n",
       "        [-0.16002965, -0.71957016]], dtype=float32)>,\n",
       " <tf.Variable 'dense_42/bias:0' shape=(2,) dtype=float32, numpy=array([0., 0.], dtype=float32)>,\n",
       " <tf.Variable 'dense_43/kernel:0' shape=(2, 10) dtype=float32, numpy=\n",
       " array([[ 0.2694075 ,  0.028027  ,  0.70394963, -0.4074887 ,  0.6567015 ,\n",
       "          0.3653553 , -0.6868362 ,  0.5480557 ,  0.5594962 , -0.23371726],\n",
       "        [ 0.05369288, -0.57631075,  0.4588763 ,  0.1184721 ,  0.33819538,\n",
       "         -0.4287973 , -0.3378166 , -0.24377418,  0.47639102, -0.34292564]],\n",
       "       dtype=float32)>,\n",
       " <tf.Variable 'dense_43/bias:0' shape=(10,) dtype=float32, numpy=array([0., 0., 0., 0., 0., 0., 0., 0., 0., 0.], dtype=float32)>,\n",
       " <tf.Variable 'dense_45/kernel:0' shape=(10, 1) dtype=float32, numpy=\n",
       " array([[-0.34175256],\n",
       "        [ 0.62870115],\n",
       "        [ 0.6746159 ],\n",
       "        [ 0.2061693 ],\n",
       "        [ 0.677187  ],\n",
       "        [-0.2911702 ],\n",
       "        [ 0.10088718],\n",
       "        [-0.09161514],\n",
       "        [ 0.6591665 ],\n",
       "        [-0.250164  ]], dtype=float32)>,\n",
       " <tf.Variable 'dense_45/bias:0' shape=(1,) dtype=float32, numpy=array([0.], dtype=float32)>]"
      ]
     },
     "metadata": {},
     "execution_count": 107
    }
   ],
   "source": [
    "model.weights"
   ]
  },
  {
   "source": [
    "We can see what predictions our model would make given these weights by just pasing it a single 4 element vector."
   ],
   "cell_type": "markdown",
   "metadata": {}
  },
  {
   "cell_type": "code",
   "execution_count": 108,
   "metadata": {},
   "outputs": [
    {
     "output_type": "stream",
     "name": "stdout",
     "text": [
      "tf.Tensor([[0.5]], shape=(1, 1), dtype=float32)\n"
     ]
    }
   ],
   "source": [
    "import seaborn as sns\n",
    "import numpy as np\n",
    "penguins = sns.load_dataset('penguins').dropna()\n",
    "penguins.head()\n",
    "Y = 1*(penguins['species']==\"Adelie\")\n",
    "X = penguins[['bill_length_mm','bill_depth_mm','flipper_length_mm','body_mass_g']]\n",
    "test = np.array(X[0:1])\n",
    "test.shape\n",
    "y = model(test)\n",
    "print(y)\n"
   ]
  },
  {
   "source": [
    "Now, we want to move on to training our neural network using the data. We first split our data into testing and training."
   ],
   "cell_type": "markdown",
   "metadata": {}
  },
  {
   "cell_type": "code",
   "execution_count": 109,
   "metadata": {},
   "outputs": [],
   "source": [
    "from sklearn.model_selection import train_test_split\n",
    "Xtrain, Xtest, Ytrain, Ytest = train_test_split(X,Y)"
   ]
  },
  {
   "source": [
    "We first specify a training configuration using \n",
    "\n",
    "``model.compile(optimizer, loss, metrics)``\n",
    "\n",
    "The optimizer tells keras how to numerically compute the derivative at each step of the back-popogation. Examples include ``keras.optimizers.SGD()``, ``keras.optimizers.Adam()``, or ``keras.optimizers.RMSprop()``. For now we use Adam, which implements a stochastic gradient descent estimating the first and second derivatives at each step of the back propogation.\n",
    "\n",
    "The loss function tells us what loss function we want to minimize when doing back-propogation. Examples include ``keras.losses.MeanSquaredError()``, ``keras.losses.KLDivergence()``, etc. For this example we will use the MSE.\n",
    "\n",
    "Finally, the metrics argument tells what metrics to use to describe our models performance on the training data. Examples include ``keras.metrics.Accuracy()``, ``keras.metrics.Crossentropy()``, etc. We can pass multiple metrics to this argument. For this example we will use the KL Divergence.\n"
   ],
   "cell_type": "markdown",
   "metadata": {}
  },
  {
   "cell_type": "code",
   "execution_count": 136,
   "metadata": {},
   "outputs": [],
   "source": [
    "model.compile(optimizer = keras.optimizers.Adam(), loss=keras.losses.MeanSquaredError(), metrics=[keras.metrics.KLDivergence()])"
   ]
  },
  {
   "source": [
    "Finally, we fit the model using\n",
    "\n",
    "``model.fit(Xtrain, Ytrain, epochs)``\n",
    "\n",
    "When training the model keras will try to split up the data into batches (randomly) and do back-progogation to compute the gradient on each subsample. Epochs tells the data how many times to iterate through and use the whole dataset and run back-propogation. For now we try 50 epochs."
   ],
   "cell_type": "markdown",
   "metadata": {}
  },
  {
   "cell_type": "code",
   "execution_count": 113,
   "metadata": {},
   "outputs": [
    {
     "output_type": "stream",
     "name": "stdout",
     "text": [
      "Epoch 1/50\n",
      "8/8 [==============================] - 0s 749us/step - loss: 0.2451 - accuracy: 0.0000e+00 - kullback_leibler_divergence: 0.3554\n",
      "Epoch 2/50\n",
      "8/8 [==============================] - 0s 797us/step - loss: 0.2451 - accuracy: 0.0000e+00 - kullback_leibler_divergence: 0.3556\n",
      "Epoch 3/50\n",
      "8/8 [==============================] - 0s 733us/step - loss: 0.2451 - accuracy: 0.0000e+00 - kullback_leibler_divergence: 0.3557\n",
      "Epoch 4/50\n",
      "8/8 [==============================] - 0s 750us/step - loss: 0.2451 - accuracy: 0.0000e+00 - kullback_leibler_divergence: 0.3560\n",
      "Epoch 5/50\n",
      "8/8 [==============================] - 0s 782us/step - loss: 0.2451 - accuracy: 0.0000e+00 - kullback_leibler_divergence: 0.3562\n",
      "Epoch 6/50\n",
      "8/8 [==============================] - 0s 842us/step - loss: 0.2451 - accuracy: 0.0000e+00 - kullback_leibler_divergence: 0.3564\n",
      "Epoch 7/50\n",
      "8/8 [==============================] - 0s 778us/step - loss: 0.2451 - accuracy: 0.0000e+00 - kullback_leibler_divergence: 0.3566\n",
      "Epoch 8/50\n",
      "8/8 [==============================] - 0s 839us/step - loss: 0.2451 - accuracy: 0.0000e+00 - kullback_leibler_divergence: 0.3567\n",
      "Epoch 9/50\n",
      "8/8 [==============================] - 0s 706us/step - loss: 0.2451 - accuracy: 0.0000e+00 - kullback_leibler_divergence: 0.3568\n",
      "Epoch 10/50\n",
      "8/8 [==============================] - 0s 725us/step - loss: 0.2451 - accuracy: 0.0000e+00 - kullback_leibler_divergence: 0.3569\n",
      "Epoch 11/50\n",
      "8/8 [==============================] - 0s 839us/step - loss: 0.2451 - accuracy: 0.0000e+00 - kullback_leibler_divergence: 0.3569\n",
      "Epoch 12/50\n",
      "8/8 [==============================] - 0s 750us/step - loss: 0.2451 - accuracy: 0.0000e+00 - kullback_leibler_divergence: 0.3571\n",
      "Epoch 13/50\n",
      "8/8 [==============================] - 0s 748us/step - loss: 0.2451 - accuracy: 0.0000e+00 - kullback_leibler_divergence: 0.3571\n",
      "Epoch 14/50\n",
      "8/8 [==============================] - 0s 675us/step - loss: 0.2451 - accuracy: 0.0000e+00 - kullback_leibler_divergence: 0.3572\n",
      "Epoch 15/50\n",
      "8/8 [==============================] - 0s 746us/step - loss: 0.2451 - accuracy: 0.0000e+00 - kullback_leibler_divergence: 0.3573\n",
      "Epoch 16/50\n",
      "8/8 [==============================] - 0s 798us/step - loss: 0.2451 - accuracy: 0.0000e+00 - kullback_leibler_divergence: 0.3573\n",
      "Epoch 17/50\n",
      "8/8 [==============================] - 0s 758us/step - loss: 0.2451 - accuracy: 0.0000e+00 - kullback_leibler_divergence: 0.3573\n",
      "Epoch 18/50\n",
      "8/8 [==============================] - 0s 728us/step - loss: 0.2451 - accuracy: 0.0000e+00 - kullback_leibler_divergence: 0.3575\n",
      "Epoch 19/50\n",
      "8/8 [==============================] - 0s 787us/step - loss: 0.2451 - accuracy: 0.0000e+00 - kullback_leibler_divergence: 0.3577\n",
      "Epoch 20/50\n",
      "8/8 [==============================] - 0s 664us/step - loss: 0.2451 - accuracy: 0.0000e+00 - kullback_leibler_divergence: 0.3578\n",
      "Epoch 21/50\n",
      "8/8 [==============================] - 0s 883us/step - loss: 0.2451 - accuracy: 0.0000e+00 - kullback_leibler_divergence: 0.3579\n",
      "Epoch 22/50\n",
      "8/8 [==============================] - 0s 719us/step - loss: 0.2451 - accuracy: 0.0000e+00 - kullback_leibler_divergence: 0.3578\n",
      "Epoch 23/50\n",
      "8/8 [==============================] - 0s 745us/step - loss: 0.2451 - accuracy: 0.0000e+00 - kullback_leibler_divergence: 0.3579\n",
      "Epoch 24/50\n",
      "8/8 [==============================] - 0s 838us/step - loss: 0.2451 - accuracy: 0.0000e+00 - kullback_leibler_divergence: 0.3581\n",
      "Epoch 25/50\n",
      "8/8 [==============================] - 0s 743us/step - loss: 0.2451 - accuracy: 0.0000e+00 - kullback_leibler_divergence: 0.3583\n",
      "Epoch 26/50\n",
      "8/8 [==============================] - 0s 913us/step - loss: 0.2451 - accuracy: 0.0000e+00 - kullback_leibler_divergence: 0.3584\n",
      "Epoch 27/50\n",
      "8/8 [==============================] - 0s 748us/step - loss: 0.2451 - accuracy: 0.0000e+00 - kullback_leibler_divergence: 0.3583\n",
      "Epoch 28/50\n",
      "8/8 [==============================] - 0s 776us/step - loss: 0.2451 - accuracy: 0.0000e+00 - kullback_leibler_divergence: 0.3584\n",
      "Epoch 29/50\n",
      "8/8 [==============================] - 0s 906us/step - loss: 0.2451 - accuracy: 0.0000e+00 - kullback_leibler_divergence: 0.3588\n",
      "Epoch 30/50\n",
      "8/8 [==============================] - 0s 731us/step - loss: 0.2451 - accuracy: 0.0000e+00 - kullback_leibler_divergence: 0.3592\n",
      "Epoch 31/50\n",
      "8/8 [==============================] - 0s 738us/step - loss: 0.2451 - accuracy: 0.0000e+00 - kullback_leibler_divergence: 0.3593\n",
      "Epoch 32/50\n",
      "8/8 [==============================] - 0s 794us/step - loss: 0.2451 - accuracy: 0.0000e+00 - kullback_leibler_divergence: 0.3594\n",
      "Epoch 33/50\n",
      "8/8 [==============================] - 0s 755us/step - loss: 0.2451 - accuracy: 0.0000e+00 - kullback_leibler_divergence: 0.3594\n",
      "Epoch 34/50\n",
      "8/8 [==============================] - 0s 831us/step - loss: 0.2451 - accuracy: 0.0000e+00 - kullback_leibler_divergence: 0.3593\n",
      "Epoch 35/50\n",
      "8/8 [==============================] - 0s 750us/step - loss: 0.2451 - accuracy: 0.0000e+00 - kullback_leibler_divergence: 0.3595\n",
      "Epoch 36/50\n",
      "8/8 [==============================] - 0s 827us/step - loss: 0.2451 - accuracy: 0.0000e+00 - kullback_leibler_divergence: 0.3596\n",
      "Epoch 37/50\n",
      "8/8 [==============================] - 0s 750us/step - loss: 0.2451 - accuracy: 0.0000e+00 - kullback_leibler_divergence: 0.3595\n",
      "Epoch 38/50\n",
      "8/8 [==============================] - 0s 715us/step - loss: 0.2451 - accuracy: 0.0000e+00 - kullback_leibler_divergence: 0.3596\n",
      "Epoch 39/50\n",
      "8/8 [==============================] - 0s 899us/step - loss: 0.2451 - accuracy: 0.0000e+00 - kullback_leibler_divergence: 0.3598\n",
      "Epoch 40/50\n",
      "8/8 [==============================] - 0s 689us/step - loss: 0.2451 - accuracy: 0.0000e+00 - kullback_leibler_divergence: 0.3598\n",
      "Epoch 41/50\n",
      "8/8 [==============================] - 0s 810us/step - loss: 0.2451 - accuracy: 0.0000e+00 - kullback_leibler_divergence: 0.3598\n",
      "Epoch 42/50\n",
      "8/8 [==============================] - 0s 757us/step - loss: 0.2451 - accuracy: 0.0000e+00 - kullback_leibler_divergence: 0.3599\n",
      "Epoch 43/50\n",
      "8/8 [==============================] - 0s 752us/step - loss: 0.2451 - accuracy: 0.0000e+00 - kullback_leibler_divergence: 0.3600\n",
      "Epoch 44/50\n",
      "8/8 [==============================] - 0s 777us/step - loss: 0.2451 - accuracy: 0.0000e+00 - kullback_leibler_divergence: 0.3602\n",
      "Epoch 45/50\n",
      "8/8 [==============================] - 0s 757us/step - loss: 0.2451 - accuracy: 0.0000e+00 - kullback_leibler_divergence: 0.3602\n",
      "Epoch 46/50\n",
      "8/8 [==============================] - 0s 790us/step - loss: 0.2451 - accuracy: 0.0000e+00 - kullback_leibler_divergence: 0.3602\n",
      "Epoch 47/50\n",
      "8/8 [==============================] - 0s 725us/step - loss: 0.2451 - accuracy: 0.0000e+00 - kullback_leibler_divergence: 0.3604\n",
      "Epoch 48/50\n",
      "8/8 [==============================] - 0s 766us/step - loss: 0.2451 - accuracy: 0.0000e+00 - kullback_leibler_divergence: 0.3605\n",
      "Epoch 49/50\n",
      "8/8 [==============================] - 0s 764us/step - loss: 0.2451 - accuracy: 0.0000e+00 - kullback_leibler_divergence: 0.3606\n",
      "Epoch 50/50\n",
      "8/8 [==============================] - 0s 788us/step - loss: 0.2451 - accuracy: 0.0000e+00 - kullback_leibler_divergence: 0.3605\n"
     ]
    },
    {
     "output_type": "execute_result",
     "data": {
      "text/plain": [
       "<tensorflow.python.keras.callbacks.History at 0x7f86f7439cd0>"
      ]
     },
     "metadata": {},
     "execution_count": 113
    }
   ],
   "source": [
    "model.fit(Xtrain, Ytrain, epochs = 50)"
   ]
  },
  {
   "source": [
    "Using the predict method we can make predictions and validate this neural net using our testing data"
   ],
   "cell_type": "markdown",
   "metadata": {}
  },
  {
   "cell_type": "code",
   "execution_count": 137,
   "metadata": {},
   "outputs": [
    {
     "output_type": "stream",
     "name": "stdout",
     "text": [
      "0.5357142857142857\n"
     ]
    }
   ],
   "source": [
    "Yhat = 1*(model.predict(Xtest).flatten() >= 0.5)\n",
    "print(np.mean(Yhat == Ytest))\n"
   ]
  },
  {
   "source": [
    "Our model preforms just ok. But, we did get it to work."
   ],
   "cell_type": "markdown",
   "metadata": {}
  },
  {
   "cell_type": "code",
   "execution_count": null,
   "metadata": {},
   "outputs": [],
   "source": []
  }
 ]
}