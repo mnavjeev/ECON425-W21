{
 "metadata": {
  "language_info": {
   "codemirror_mode": {
    "name": "ipython",
    "version": 3
   },
   "file_extension": ".py",
   "mimetype": "text/x-python",
   "name": "python",
   "nbconvert_exporter": "python",
   "pygments_lexer": "ipython3",
   "version": "3.7.4-final"
  },
  "orig_nbformat": 2,
  "kernelspec": {
   "name": "python3",
   "display_name": "Python 3",
   "language": "python"
  }
 },
 "nbformat": 4,
 "nbformat_minor": 2,
 "cells": [
  {
   "source": [
    "# Week 3: Classification\n",
    "\n",
    "In this section we will apply what we have learned about the logistic regression model to fit a model and make predictions. We will be using the `penguins` dataset from `seaborn` and try to predict where or not a penguin is of Adelie species.\n",
    "\n",
    "We will build a Logistic Regression model from scratch.\n"
   ],
   "cell_type": "markdown",
   "metadata": {}
  },
  {
   "cell_type": "code",
   "execution_count": 1,
   "metadata": {},
   "outputs": [
    {
     "output_type": "stream",
     "name": "stdout",
     "text": [
      "Data Shape,  (333, 9)\n  species     island  bill_length_mm  bill_depth_mm  flipper_length_mm  \\\n0  Adelie  Torgersen            39.1           18.7              181.0   \n1  Adelie  Torgersen            39.5           17.4              186.0   \n2  Adelie  Torgersen            40.3           18.0              195.0   \n4  Adelie  Torgersen            36.7           19.3              193.0   \n5  Adelie  Torgersen            39.3           20.6              190.0   \n\n   body_mass_g     sex  One  Adelie  \n0       3750.0    MALE    1       1  \n1       3800.0  FEMALE    1       1  \n2       3250.0  FEMALE    1       1  \n4       3450.0  FEMALE    1       1  \n5       3650.0    MALE    1       1  \n0.43843843843843844\nIndex(['species', 'island', 'bill_length_mm', 'bill_depth_mm',\n       'flipper_length_mm', 'body_mass_g', 'sex', 'One', 'Adelie'],\n      dtype='object')\n"
     ]
    }
   ],
   "source": [
    "# Code for Week 5\n",
    "import pandas as pd\n",
    "import numpy as np\n",
    "import seaborn as sns\n",
    "\n",
    "# Import penguins\n",
    "penguins = (sns.load_dataset(\"penguins\")).dropna()\n",
    "penguins[\"One\"] = 1\n",
    "penguins[\"Adelie\"] = 1*(penguins[\"species\"] == \"Adelie\")\n",
    "\n",
    "print(\"Data Shape, \",penguins.shape)\n",
    "\n",
    "# Take a look at the columns\n",
    "print(penguins.head())\n",
    "\n",
    "# What percentage of our data is Adelie\n",
    "print(np.mean(penguins.Adelie))\n",
    "\n",
    "# What features do we have\n",
    "print(penguins.columns)\n"
   ]
  },
  {
   "source": [
    "## Setting up our Model\n",
    "\n",
    "In this example, we will use the features \"bill_length_mm\", \"bill_depth_mm\", \"flipper_length_mm\", and \"body_mass_g\" to predict whether or not the species is Adelie."
   ],
   "cell_type": "markdown",
   "metadata": {}
  },
  {
   "cell_type": "code",
   "execution_count": 2,
   "metadata": {},
   "outputs": [
    {
     "output_type": "execute_result",
     "data": {
      "text/plain": [
       "(333, 5)"
      ]
     },
     "metadata": {},
     "execution_count": 2
    }
   ],
   "source": [
    "\n",
    "X = penguins[['One','bill_length_mm', 'bill_depth_mm','flipper_length_mm','body_mass_g']]\n",
    "Y = penguins['Adelie']\n",
    "X.shape"
   ]
  },
  {
   "source": [
    "\n",
    "Recall that in logistic regression, we model the probability as \n",
    "\n",
    "$$ \\pi(\\mathbf{X}_i; \\boldsymbol{\\beta}) = \\frac{1}{1 + \\exp\\left(-\\beta_0 - \\beta_1 X_{i,1} - \\dots - \\beta_p X_{i,p}\\right)}$$\n",
    "\n",
    "\n",
    "To make predictions with this model (and evaluate the gradient) we will first need to write a function that takes in our feature matrix and a guessed value of $\\boldsymbol\\beta$ and returns a vector of probabilities. \n",
    "\n",
    "\n"
   ],
   "cell_type": "markdown",
   "metadata": {}
  },
  {
   "cell_type": "code",
   "execution_count": 3,
   "metadata": {},
   "outputs": [],
   "source": [
    "beta = np.array((-0.001,0.001,0.001,-0.001,0.001))\n",
    "def LogitReg(Xtrain, beta):\n",
    "    power = np.dot(Xtrain,beta)\n",
    "    pHat = 1/(1 + np.exp(power))\n",
    "    return pHat\n",
    "test = LogitReg(X,beta)\n",
    "# print(test)\n"
   ]
  },
  {
   "source": [
    "We will also want a function that takes in the predicted probabilitis and returns the evaluates the log-likelihood:\n",
    "\n",
    "$$ \\ell(\\boldsymbol\\beta) = \\sum_{i=1}^n Y_i\\ln\\pi\\left(\\mathbf{X}_i ;\\boldsymbol{\\beta}\\right) + (1 - Y_i)\\ln(1 - \\pi(\\mathbf{X}_i;\\boldsymbol{\\beta}))$$"
   ],
   "cell_type": "markdown",
   "metadata": {}
  },
  {
   "cell_type": "code",
   "execution_count": 4,
   "metadata": {},
   "outputs": [
    {
     "output_type": "stream",
     "name": "stdout",
     "text": [
      "-528.9056104880059\n"
     ]
    }
   ],
   "source": [
    "def LogitLikelihood(Ytrain, pHat):\n",
    "    return np.sum(Ytrain*np.log(pHat) + (1 - Ytrain)*np.log(1 -pHat))\n",
    "    \n",
    "test2 = LogitLikelihood(Y,test)\n",
    "print(test2)"
   ]
  },
  {
   "source": [
    "We will find the parameters $\\beta_0, \\beta_1,...,\\beta_p$ to maximize the (simplified) log-likelihood:\n",
    "$$ \\ell(\\boldsymbol{\\beta}) = \\sum_{i=1}^n \\left[\\ln\\left\\{1 + e^{\\boldsymbol{\\beta}\\mathbf{X}_i}\\right\\} - Y_i\\boldsymbol\\beta\\mathbf{X}_i\\right] $$\n",
    "\n",
    "The gradient of $\\ell(\\boldsymbol\\beta)$ is given:\n",
    "\n",
    "$$\\nabla \\ell(\\boldsymbol{\\beta}) = \\mathbf{X}\\cdot\\left[\\tilde\\pi(\\mathbf{X};\\boldsymbol{\\beta}) - \\mathbf{Y}\\right]$$\n",
    "\n",
    "where:\n",
    "$$\\tilde{\\pi}(\\mathbf{X};\\boldsymbol{\\beta}) = \\left(\\pi(\\mathbf{X}_i;\\boldsymbol{\\beta}),\\dots, \\pi(\\mathbf{X}_n;\\boldsymbol{\\beta})\\right)'$$ denotes our vector of predicted probabilities at guess $\\boldsymbol{\\beta}$\n",
    "\n",
    "In order to implement this, we will need to write a gradient descent function. We can use what we have above:"
   ],
   "cell_type": "markdown",
   "metadata": {}
  },
  {
   "cell_type": "code",
   "execution_count": 45,
   "metadata": {},
   "outputs": [
    {
     "output_type": "stream",
     "name": "stdout",
     "text": [
      "[-0.01284249  0.09104326 -0.62792275 -2.37737193  0.11796271]\n"
     ]
    }
   ],
   "source": [
    "\n",
    "def LogitGradientDescent(beta_initial, num_iterations, gamma, Xtrain, Ytrain):\n",
    "    # Set up for gradient descent\n",
    "    beta = beta_initial\n",
    "    likelihoods = []\n",
    "    # Do the gradient descent (updating each time)\n",
    "    for i in range(num_iterations):\n",
    "        # Find the vector of probabilities\n",
    "        pHat = LogitReg(Xtrain, beta)\n",
    "        # Evaluate the log-likelihood function\n",
    "        likelihood = LogitLikelihood(Ytrain, pHat)\n",
    "        # Add the likelihood to the list\n",
    "        likelihoods.append(likelihood)\n",
    "        # Compute the gradient\n",
    "        grad = (1/len(Ytrain))*np.dot(pHat - Ytrain, X)\n",
    "        # Update Beta\n",
    "        beta = beta + gamma*grad\n",
    "    # Compute the likelihood for the final value of beta\n",
    "    pHat = LogitReg(Xtrain, beta)\n",
    "    likelihood = LogitLikelihood(Ytrain, pHat)\n",
    "    likelihoods.append(likelihood)\n",
    "    # Return the last value of beta, the final log-likelihood, and the likelihoods\n",
    "    return beta, np.array(likelihoods)\n",
    "         \n",
    "beta_initial = 0.01*np.ones(5)\n",
    "num_iterations = 10000\n",
    "gamma = 0.0001\n",
    "\n",
    "betaFinal, likelihoods = LogitGradientDescent(beta_initial, num_iterations, gamma, X, Y)\n",
    "print(betaFinal)\n"
   ]
  },
  {
   "source": [
    "Now we plot the convergence curve:"
   ],
   "cell_type": "markdown",
   "metadata": {}
  },
  {
   "cell_type": "code",
   "execution_count": 43,
   "metadata": {},
   "outputs": [
    {
     "output_type": "stream",
     "name": "stdout",
     "text": [
      "-inf\n"
     ]
    },
    {
     "output_type": "execute_result",
     "data": {
      "text/plain": [
       "<matplotlib.collections.PathCollection at 0x7fafcbef1bd0>"
      ]
     },
     "metadata": {},
     "execution_count": 43
    },
    {
     "output_type": "display_data",
     "data": {
      "text/plain": "<Figure size 432x288 with 1 Axes>",
      "image/svg+xml": "<?xml version=\"1.0\" encoding=\"utf-8\" standalone=\"no\"?>\n<!DOCTYPE svg PUBLIC \"-//W3C//DTD SVG 1.1//EN\"\n  \"http://www.w3.org/Graphics/SVG/1.1/DTD/svg11.dtd\">\n<!-- Created with matplotlib (https://matplotlib.org/) -->\n<svg height=\"248.518125pt\" version=\"1.1\" viewBox=\"0 0 396.392187 248.518125\" width=\"396.392187pt\" xmlns=\"http://www.w3.org/2000/svg\" xmlns:xlink=\"http://www.w3.org/1999/xlink\">\n <defs>\n  <style type=\"text/css\">\n*{stroke-linecap:butt;stroke-linejoin:round;}\n  </style>\n </defs>\n <g id=\"figure_1\">\n  <g id=\"patch_1\">\n   <path d=\"M 0 248.518125 \nL 396.392187 248.518125 \nL 396.392187 0 \nL 0 0 \nz\n\" style=\"fill:none;\"/>\n  </g>\n  <g id=\"axes_1\">\n   <g id=\"patch_2\">\n    <path d=\"M 54.392188 224.64 \nL 389.192187 224.64 \nL 389.192187 7.2 \nL 54.392188 7.2 \nz\n\" style=\"fill:#ffffff;\"/>\n   </g>\n   <g id=\"PathCollection_1\">\n    <defs>\n     <path d=\"M 0 3 \nC 0.795609 3 1.55874 2.683901 2.12132 2.12132 \nC 2.683901 1.55874 3 0.795609 3 0 \nC 3 -0.795609 2.683901 -1.55874 2.12132 -2.12132 \nC 1.55874 -2.683901 0.795609 -3 0 -3 \nC -0.795609 -3 -1.55874 -2.683901 -2.12132 -2.12132 \nC -2.683901 -1.55874 -3 -0.795609 -3 0 \nC -3 0.795609 -2.683901 1.55874 -2.12132 2.12132 \nC -1.55874 2.683901 -0.795609 3 0 3 \nz\n\" id=\"m1ee18837ae\" style=\"stroke:#1f77b4;\"/>\n    </defs>\n    <g clip-path=\"url(#p8873651492)\">\n     <use style=\"fill:#1f77b4;stroke:#1f77b4;\" x=\"69.613465\" xlink:href=\"#m1ee18837ae\" y=\"17.083676\"/>\n     <use style=\"fill:#1f77b4;stroke:#1f77b4;\" x=\"72.722678\" xlink:href=\"#m1ee18837ae\" y=\"167.926939\"/>\n     <use style=\"fill:#1f77b4;stroke:#1f77b4;\" x=\"77.213764\" xlink:href=\"#m1ee18837ae\" y=\"24.22491\"/>\n     <use style=\"fill:#1f77b4;stroke:#1f77b4;\" x=\"87.923277\" xlink:href=\"#m1ee18837ae\" y=\"183.551532\"/>\n     <use style=\"fill:#1f77b4;stroke:#1f77b4;\" x=\"92.414363\" xlink:href=\"#m1ee18837ae\" y=\"39.849498\"/>\n     <use style=\"fill:#1f77b4;stroke:#1f77b4;\" x=\"103.123876\" xlink:href=\"#m1ee18837ae\" y=\"199.153928\"/>\n     <use style=\"fill:#1f77b4;stroke:#1f77b4;\" x=\"107.614962\" xlink:href=\"#m1ee18837ae\" y=\"55.451894\"/>\n     <use style=\"fill:#1f77b4;stroke:#1f77b4;\" x=\"118.324475\" xlink:href=\"#m1ee18837ae\" y=\"214.756324\"/>\n     <use style=\"fill:#1f77b4;stroke:#1f77b4;\" x=\"122.815561\" xlink:href=\"#m1ee18837ae\" y=\"71.05429\"/>\n     <use style=\"fill:#1f77b4;stroke:#1f77b4;\" x=\"138.01616\" xlink:href=\"#m1ee18837ae\" y=\"86.656686\"/>\n     <use style=\"fill:#1f77b4;stroke:#1f77b4;\" x=\"153.216759\" xlink:href=\"#m1ee18837ae\" y=\"102.259082\"/>\n     <use style=\"fill:#1f77b4;stroke:#1f77b4;\" x=\"168.417357\" xlink:href=\"#m1ee18837ae\" y=\"117.861478\"/>\n     <use style=\"fill:#1f77b4;stroke:#1f77b4;\" x=\"183.617956\" xlink:href=\"#m1ee18837ae\" y=\"103.905178\"/>\n     <use style=\"fill:#1f77b4;stroke:#1f77b4;\" x=\"198.818555\" xlink:href=\"#m1ee18837ae\" y=\"119.507573\"/>\n     <use style=\"fill:#1f77b4;stroke:#1f77b4;\" x=\"206.764323\" xlink:href=\"#m1ee18837ae\" y=\"184.532062\"/>\n     <use style=\"fill:#1f77b4;stroke:#1f77b4;\" x=\"224.728667\" xlink:href=\"#m1ee18837ae\" y=\"90.303387\"/>\n     <use style=\"fill:#1f77b4;stroke:#1f77b4;\" x=\"235.43818\" xlink:href=\"#m1ee18837ae\" y=\"92.542967\"/>\n     <use style=\"fill:#1f77b4;stroke:#1f77b4;\" x=\"254.784396\" xlink:href=\"#m1ee18837ae\" y=\"143.427426\"/>\n     <use style=\"fill:#1f77b4;stroke:#1f77b4;\" x=\"268.603123\" xlink:href=\"#m1ee18837ae\" y=\"171.741184\"/>\n     <use style=\"fill:#1f77b4;stroke:#1f77b4;\" x=\"308.677429\" xlink:href=\"#m1ee18837ae\" y=\"118.481705\"/>\n     <use style=\"fill:#1f77b4;stroke:#1f77b4;\" x=\"331.478327\" xlink:href=\"#m1ee18837ae\" y=\"164.747477\"/>\n     <use style=\"fill:#1f77b4;stroke:#1f77b4;\" x=\"373.97091\" xlink:href=\"#m1ee18837ae\" y=\"158.127877\"/>\n    </g>\n   </g>\n   <g id=\"matplotlib.axis_1\">\n    <g id=\"xtick_1\">\n     <g id=\"line2d_1\">\n      <defs>\n       <path d=\"M 0 0 \nL 0 3.5 \n\" id=\"md1a8667444\" style=\"stroke:#000000;stroke-width:0.8;\"/>\n      </defs>\n      <g>\n       <use style=\"stroke:#000000;stroke-width:0.8;\" x=\"69.613465\" xlink:href=\"#md1a8667444\" y=\"224.64\"/>\n      </g>\n     </g>\n     <g id=\"text_1\">\n      <!-- 0 -->\n      <defs>\n       <path d=\"M 31.78125 66.40625 \nQ 24.171875 66.40625 20.328125 58.90625 \nQ 16.5 51.421875 16.5 36.375 \nQ 16.5 21.390625 20.328125 13.890625 \nQ 24.171875 6.390625 31.78125 6.390625 \nQ 39.453125 6.390625 43.28125 13.890625 \nQ 47.125 21.390625 47.125 36.375 \nQ 47.125 51.421875 43.28125 58.90625 \nQ 39.453125 66.40625 31.78125 66.40625 \nz\nM 31.78125 74.21875 \nQ 44.046875 74.21875 50.515625 64.515625 \nQ 56.984375 54.828125 56.984375 36.375 \nQ 56.984375 17.96875 50.515625 8.265625 \nQ 44.046875 -1.421875 31.78125 -1.421875 \nQ 19.53125 -1.421875 13.0625 8.265625 \nQ 6.59375 17.96875 6.59375 36.375 \nQ 6.59375 54.828125 13.0625 64.515625 \nQ 19.53125 74.21875 31.78125 74.21875 \nz\n\" id=\"DejaVuSans-48\"/>\n      </defs>\n      <g transform=\"translate(66.432215 239.238437)scale(0.1 -0.1)\">\n       <use xlink:href=\"#DejaVuSans-48\"/>\n      </g>\n     </g>\n    </g>\n    <g id=\"xtick_2\">\n     <g id=\"line2d_2\">\n      <g>\n       <use style=\"stroke:#000000;stroke-width:0.8;\" x=\"138.707096\" xlink:href=\"#md1a8667444\" y=\"224.64\"/>\n      </g>\n     </g>\n     <g id=\"text_2\">\n      <!-- 200 -->\n      <defs>\n       <path d=\"M 19.1875 8.296875 \nL 53.609375 8.296875 \nL 53.609375 0 \nL 7.328125 0 \nL 7.328125 8.296875 \nQ 12.9375 14.109375 22.625 23.890625 \nQ 32.328125 33.6875 34.8125 36.53125 \nQ 39.546875 41.84375 41.421875 45.53125 \nQ 43.3125 49.21875 43.3125 52.78125 \nQ 43.3125 58.59375 39.234375 62.25 \nQ 35.15625 65.921875 28.609375 65.921875 \nQ 23.96875 65.921875 18.8125 64.3125 \nQ 13.671875 62.703125 7.8125 59.421875 \nL 7.8125 69.390625 \nQ 13.765625 71.78125 18.9375 73 \nQ 24.125 74.21875 28.421875 74.21875 \nQ 39.75 74.21875 46.484375 68.546875 \nQ 53.21875 62.890625 53.21875 53.421875 \nQ 53.21875 48.921875 51.53125 44.890625 \nQ 49.859375 40.875 45.40625 35.40625 \nQ 44.1875 33.984375 37.640625 27.21875 \nQ 31.109375 20.453125 19.1875 8.296875 \nz\n\" id=\"DejaVuSans-50\"/>\n      </defs>\n      <g transform=\"translate(129.163346 239.238437)scale(0.1 -0.1)\">\n       <use xlink:href=\"#DejaVuSans-50\"/>\n       <use x=\"63.623047\" xlink:href=\"#DejaVuSans-48\"/>\n       <use x=\"127.246094\" xlink:href=\"#DejaVuSans-48\"/>\n      </g>\n     </g>\n    </g>\n    <g id=\"xtick_3\">\n     <g id=\"line2d_3\">\n      <g>\n       <use style=\"stroke:#000000;stroke-width:0.8;\" x=\"207.800727\" xlink:href=\"#md1a8667444\" y=\"224.64\"/>\n      </g>\n     </g>\n     <g id=\"text_3\">\n      <!-- 400 -->\n      <defs>\n       <path d=\"M 37.796875 64.3125 \nL 12.890625 25.390625 \nL 37.796875 25.390625 \nz\nM 35.203125 72.90625 \nL 47.609375 72.90625 \nL 47.609375 25.390625 \nL 58.015625 25.390625 \nL 58.015625 17.1875 \nL 47.609375 17.1875 \nL 47.609375 0 \nL 37.796875 0 \nL 37.796875 17.1875 \nL 4.890625 17.1875 \nL 4.890625 26.703125 \nz\n\" id=\"DejaVuSans-52\"/>\n      </defs>\n      <g transform=\"translate(198.256977 239.238437)scale(0.1 -0.1)\">\n       <use xlink:href=\"#DejaVuSans-52\"/>\n       <use x=\"63.623047\" xlink:href=\"#DejaVuSans-48\"/>\n       <use x=\"127.246094\" xlink:href=\"#DejaVuSans-48\"/>\n      </g>\n     </g>\n    </g>\n    <g id=\"xtick_4\">\n     <g id=\"line2d_4\">\n      <g>\n       <use style=\"stroke:#000000;stroke-width:0.8;\" x=\"276.894358\" xlink:href=\"#md1a8667444\" y=\"224.64\"/>\n      </g>\n     </g>\n     <g id=\"text_4\">\n      <!-- 600 -->\n      <defs>\n       <path d=\"M 33.015625 40.375 \nQ 26.375 40.375 22.484375 35.828125 \nQ 18.609375 31.296875 18.609375 23.390625 \nQ 18.609375 15.53125 22.484375 10.953125 \nQ 26.375 6.390625 33.015625 6.390625 \nQ 39.65625 6.390625 43.53125 10.953125 \nQ 47.40625 15.53125 47.40625 23.390625 \nQ 47.40625 31.296875 43.53125 35.828125 \nQ 39.65625 40.375 33.015625 40.375 \nz\nM 52.59375 71.296875 \nL 52.59375 62.3125 \nQ 48.875 64.0625 45.09375 64.984375 \nQ 41.3125 65.921875 37.59375 65.921875 \nQ 27.828125 65.921875 22.671875 59.328125 \nQ 17.53125 52.734375 16.796875 39.40625 \nQ 19.671875 43.65625 24.015625 45.921875 \nQ 28.375 48.1875 33.59375 48.1875 \nQ 44.578125 48.1875 50.953125 41.515625 \nQ 57.328125 34.859375 57.328125 23.390625 \nQ 57.328125 12.15625 50.6875 5.359375 \nQ 44.046875 -1.421875 33.015625 -1.421875 \nQ 20.359375 -1.421875 13.671875 8.265625 \nQ 6.984375 17.96875 6.984375 36.375 \nQ 6.984375 53.65625 15.1875 63.9375 \nQ 23.390625 74.21875 37.203125 74.21875 \nQ 40.921875 74.21875 44.703125 73.484375 \nQ 48.484375 72.75 52.59375 71.296875 \nz\n\" id=\"DejaVuSans-54\"/>\n      </defs>\n      <g transform=\"translate(267.350608 239.238437)scale(0.1 -0.1)\">\n       <use xlink:href=\"#DejaVuSans-54\"/>\n       <use x=\"63.623047\" xlink:href=\"#DejaVuSans-48\"/>\n       <use x=\"127.246094\" xlink:href=\"#DejaVuSans-48\"/>\n      </g>\n     </g>\n    </g>\n    <g id=\"xtick_5\">\n     <g id=\"line2d_5\">\n      <g>\n       <use style=\"stroke:#000000;stroke-width:0.8;\" x=\"345.987989\" xlink:href=\"#md1a8667444\" y=\"224.64\"/>\n      </g>\n     </g>\n     <g id=\"text_5\">\n      <!-- 800 -->\n      <defs>\n       <path d=\"M 31.78125 34.625 \nQ 24.75 34.625 20.71875 30.859375 \nQ 16.703125 27.09375 16.703125 20.515625 \nQ 16.703125 13.921875 20.71875 10.15625 \nQ 24.75 6.390625 31.78125 6.390625 \nQ 38.8125 6.390625 42.859375 10.171875 \nQ 46.921875 13.96875 46.921875 20.515625 \nQ 46.921875 27.09375 42.890625 30.859375 \nQ 38.875 34.625 31.78125 34.625 \nz\nM 21.921875 38.8125 \nQ 15.578125 40.375 12.03125 44.71875 \nQ 8.5 49.078125 8.5 55.328125 \nQ 8.5 64.0625 14.71875 69.140625 \nQ 20.953125 74.21875 31.78125 74.21875 \nQ 42.671875 74.21875 48.875 69.140625 \nQ 55.078125 64.0625 55.078125 55.328125 \nQ 55.078125 49.078125 51.53125 44.71875 \nQ 48 40.375 41.703125 38.8125 \nQ 48.828125 37.15625 52.796875 32.3125 \nQ 56.78125 27.484375 56.78125 20.515625 \nQ 56.78125 9.90625 50.3125 4.234375 \nQ 43.84375 -1.421875 31.78125 -1.421875 \nQ 19.734375 -1.421875 13.25 4.234375 \nQ 6.78125 9.90625 6.78125 20.515625 \nQ 6.78125 27.484375 10.78125 32.3125 \nQ 14.796875 37.15625 21.921875 38.8125 \nz\nM 18.3125 54.390625 \nQ 18.3125 48.734375 21.84375 45.5625 \nQ 25.390625 42.390625 31.78125 42.390625 \nQ 38.140625 42.390625 41.71875 45.5625 \nQ 45.3125 48.734375 45.3125 54.390625 \nQ 45.3125 60.0625 41.71875 63.234375 \nQ 38.140625 66.40625 31.78125 66.40625 \nQ 25.390625 66.40625 21.84375 63.234375 \nQ 18.3125 60.0625 18.3125 54.390625 \nz\n\" id=\"DejaVuSans-56\"/>\n      </defs>\n      <g transform=\"translate(336.444239 239.238437)scale(0.1 -0.1)\">\n       <use xlink:href=\"#DejaVuSans-56\"/>\n       <use x=\"63.623047\" xlink:href=\"#DejaVuSans-48\"/>\n       <use x=\"127.246094\" xlink:href=\"#DejaVuSans-48\"/>\n      </g>\n     </g>\n    </g>\n   </g>\n   <g id=\"matplotlib.axis_2\">\n    <g id=\"ytick_1\">\n     <g id=\"line2d_6\">\n      <defs>\n       <path d=\"M 0 0 \nL -3.5 0 \n\" id=\"m271108ee9b\" style=\"stroke:#000000;stroke-width:0.8;\"/>\n      </defs>\n      <g>\n       <use style=\"stroke:#000000;stroke-width:0.8;\" x=\"54.392188\" xlink:href=\"#m271108ee9b\" y=\"216.571831\"/>\n      </g>\n     </g>\n     <g id=\"text_6\">\n      <!-- −70000 -->\n      <defs>\n       <path d=\"M 10.59375 35.5 \nL 73.1875 35.5 \nL 73.1875 27.203125 \nL 10.59375 27.203125 \nz\n\" id=\"DejaVuSans-8722\"/>\n       <path d=\"M 8.203125 72.90625 \nL 55.078125 72.90625 \nL 55.078125 68.703125 \nL 28.609375 0 \nL 18.3125 0 \nL 43.21875 64.59375 \nL 8.203125 64.59375 \nz\n\" id=\"DejaVuSans-55\"/>\n      </defs>\n      <g transform=\"translate(7.2 220.37105)scale(0.1 -0.1)\">\n       <use xlink:href=\"#DejaVuSans-8722\"/>\n       <use x=\"83.789062\" xlink:href=\"#DejaVuSans-55\"/>\n       <use x=\"147.412109\" xlink:href=\"#DejaVuSans-48\"/>\n       <use x=\"211.035156\" xlink:href=\"#DejaVuSans-48\"/>\n       <use x=\"274.658203\" xlink:href=\"#DejaVuSans-48\"/>\n       <use x=\"338.28125\" xlink:href=\"#DejaVuSans-48\"/>\n      </g>\n     </g>\n    </g>\n    <g id=\"ytick_2\">\n     <g id=\"line2d_7\">\n      <g>\n       <use style=\"stroke:#000000;stroke-width:0.8;\" x=\"54.392188\" xlink:href=\"#m271108ee9b\" y=\"187.979242\"/>\n      </g>\n     </g>\n     <g id=\"text_7\">\n      <!-- −60000 -->\n      <g transform=\"translate(7.2 191.778461)scale(0.1 -0.1)\">\n       <use xlink:href=\"#DejaVuSans-8722\"/>\n       <use x=\"83.789062\" xlink:href=\"#DejaVuSans-54\"/>\n       <use x=\"147.412109\" xlink:href=\"#DejaVuSans-48\"/>\n       <use x=\"211.035156\" xlink:href=\"#DejaVuSans-48\"/>\n       <use x=\"274.658203\" xlink:href=\"#DejaVuSans-48\"/>\n       <use x=\"338.28125\" xlink:href=\"#DejaVuSans-48\"/>\n      </g>\n     </g>\n    </g>\n    <g id=\"ytick_3\">\n     <g id=\"line2d_8\">\n      <g>\n       <use style=\"stroke:#000000;stroke-width:0.8;\" x=\"54.392188\" xlink:href=\"#m271108ee9b\" y=\"159.386653\"/>\n      </g>\n     </g>\n     <g id=\"text_8\">\n      <!-- −50000 -->\n      <defs>\n       <path d=\"M 10.796875 72.90625 \nL 49.515625 72.90625 \nL 49.515625 64.59375 \nL 19.828125 64.59375 \nL 19.828125 46.734375 \nQ 21.96875 47.46875 24.109375 47.828125 \nQ 26.265625 48.1875 28.421875 48.1875 \nQ 40.625 48.1875 47.75 41.5 \nQ 54.890625 34.8125 54.890625 23.390625 \nQ 54.890625 11.625 47.5625 5.09375 \nQ 40.234375 -1.421875 26.90625 -1.421875 \nQ 22.3125 -1.421875 17.546875 -0.640625 \nQ 12.796875 0.140625 7.71875 1.703125 \nL 7.71875 11.625 \nQ 12.109375 9.234375 16.796875 8.0625 \nQ 21.484375 6.890625 26.703125 6.890625 \nQ 35.15625 6.890625 40.078125 11.328125 \nQ 45.015625 15.765625 45.015625 23.390625 \nQ 45.015625 31 40.078125 35.4375 \nQ 35.15625 39.890625 26.703125 39.890625 \nQ 22.75 39.890625 18.8125 39.015625 \nQ 14.890625 38.140625 10.796875 36.28125 \nz\n\" id=\"DejaVuSans-53\"/>\n      </defs>\n      <g transform=\"translate(7.2 163.185872)scale(0.1 -0.1)\">\n       <use xlink:href=\"#DejaVuSans-8722\"/>\n       <use x=\"83.789062\" xlink:href=\"#DejaVuSans-53\"/>\n       <use x=\"147.412109\" xlink:href=\"#DejaVuSans-48\"/>\n       <use x=\"211.035156\" xlink:href=\"#DejaVuSans-48\"/>\n       <use x=\"274.658203\" xlink:href=\"#DejaVuSans-48\"/>\n       <use x=\"338.28125\" xlink:href=\"#DejaVuSans-48\"/>\n      </g>\n     </g>\n    </g>\n    <g id=\"ytick_4\">\n     <g id=\"line2d_9\">\n      <g>\n       <use style=\"stroke:#000000;stroke-width:0.8;\" x=\"54.392188\" xlink:href=\"#m271108ee9b\" y=\"130.794064\"/>\n      </g>\n     </g>\n     <g id=\"text_9\">\n      <!-- −40000 -->\n      <g transform=\"translate(7.2 134.593283)scale(0.1 -0.1)\">\n       <use xlink:href=\"#DejaVuSans-8722\"/>\n       <use x=\"83.789062\" xlink:href=\"#DejaVuSans-52\"/>\n       <use x=\"147.412109\" xlink:href=\"#DejaVuSans-48\"/>\n       <use x=\"211.035156\" xlink:href=\"#DejaVuSans-48\"/>\n       <use x=\"274.658203\" xlink:href=\"#DejaVuSans-48\"/>\n       <use x=\"338.28125\" xlink:href=\"#DejaVuSans-48\"/>\n      </g>\n     </g>\n    </g>\n    <g id=\"ytick_5\">\n     <g id=\"line2d_10\">\n      <g>\n       <use style=\"stroke:#000000;stroke-width:0.8;\" x=\"54.392188\" xlink:href=\"#m271108ee9b\" y=\"102.201475\"/>\n      </g>\n     </g>\n     <g id=\"text_10\">\n      <!-- −30000 -->\n      <defs>\n       <path d=\"M 40.578125 39.3125 \nQ 47.65625 37.796875 51.625 33 \nQ 55.609375 28.21875 55.609375 21.1875 \nQ 55.609375 10.40625 48.1875 4.484375 \nQ 40.765625 -1.421875 27.09375 -1.421875 \nQ 22.515625 -1.421875 17.65625 -0.515625 \nQ 12.796875 0.390625 7.625 2.203125 \nL 7.625 11.71875 \nQ 11.71875 9.328125 16.59375 8.109375 \nQ 21.484375 6.890625 26.8125 6.890625 \nQ 36.078125 6.890625 40.9375 10.546875 \nQ 45.796875 14.203125 45.796875 21.1875 \nQ 45.796875 27.640625 41.28125 31.265625 \nQ 36.765625 34.90625 28.71875 34.90625 \nL 20.21875 34.90625 \nL 20.21875 43.015625 \nL 29.109375 43.015625 \nQ 36.375 43.015625 40.234375 45.921875 \nQ 44.09375 48.828125 44.09375 54.296875 \nQ 44.09375 59.90625 40.109375 62.90625 \nQ 36.140625 65.921875 28.71875 65.921875 \nQ 24.65625 65.921875 20.015625 65.03125 \nQ 15.375 64.15625 9.8125 62.3125 \nL 9.8125 71.09375 \nQ 15.4375 72.65625 20.34375 73.4375 \nQ 25.25 74.21875 29.59375 74.21875 \nQ 40.828125 74.21875 47.359375 69.109375 \nQ 53.90625 64.015625 53.90625 55.328125 \nQ 53.90625 49.265625 50.4375 45.09375 \nQ 46.96875 40.921875 40.578125 39.3125 \nz\n\" id=\"DejaVuSans-51\"/>\n      </defs>\n      <g transform=\"translate(7.2 106.000693)scale(0.1 -0.1)\">\n       <use xlink:href=\"#DejaVuSans-8722\"/>\n       <use x=\"83.789062\" xlink:href=\"#DejaVuSans-51\"/>\n       <use x=\"147.412109\" xlink:href=\"#DejaVuSans-48\"/>\n       <use x=\"211.035156\" xlink:href=\"#DejaVuSans-48\"/>\n       <use x=\"274.658203\" xlink:href=\"#DejaVuSans-48\"/>\n       <use x=\"338.28125\" xlink:href=\"#DejaVuSans-48\"/>\n      </g>\n     </g>\n    </g>\n    <g id=\"ytick_6\">\n     <g id=\"line2d_11\">\n      <g>\n       <use style=\"stroke:#000000;stroke-width:0.8;\" x=\"54.392188\" xlink:href=\"#m271108ee9b\" y=\"73.608886\"/>\n      </g>\n     </g>\n     <g id=\"text_11\">\n      <!-- −20000 -->\n      <g transform=\"translate(7.2 77.408104)scale(0.1 -0.1)\">\n       <use xlink:href=\"#DejaVuSans-8722\"/>\n       <use x=\"83.789062\" xlink:href=\"#DejaVuSans-50\"/>\n       <use x=\"147.412109\" xlink:href=\"#DejaVuSans-48\"/>\n       <use x=\"211.035156\" xlink:href=\"#DejaVuSans-48\"/>\n       <use x=\"274.658203\" xlink:href=\"#DejaVuSans-48\"/>\n       <use x=\"338.28125\" xlink:href=\"#DejaVuSans-48\"/>\n      </g>\n     </g>\n    </g>\n    <g id=\"ytick_7\">\n     <g id=\"line2d_12\">\n      <g>\n       <use style=\"stroke:#000000;stroke-width:0.8;\" x=\"54.392188\" xlink:href=\"#m271108ee9b\" y=\"45.016296\"/>\n      </g>\n     </g>\n     <g id=\"text_12\">\n      <!-- −10000 -->\n      <defs>\n       <path d=\"M 12.40625 8.296875 \nL 28.515625 8.296875 \nL 28.515625 63.921875 \nL 10.984375 60.40625 \nL 10.984375 69.390625 \nL 28.421875 72.90625 \nL 38.28125 72.90625 \nL 38.28125 8.296875 \nL 54.390625 8.296875 \nL 54.390625 0 \nL 12.40625 0 \nz\n\" id=\"DejaVuSans-49\"/>\n      </defs>\n      <g transform=\"translate(7.2 48.815515)scale(0.1 -0.1)\">\n       <use xlink:href=\"#DejaVuSans-8722\"/>\n       <use x=\"83.789062\" xlink:href=\"#DejaVuSans-49\"/>\n       <use x=\"147.412109\" xlink:href=\"#DejaVuSans-48\"/>\n       <use x=\"211.035156\" xlink:href=\"#DejaVuSans-48\"/>\n       <use x=\"274.658203\" xlink:href=\"#DejaVuSans-48\"/>\n       <use x=\"338.28125\" xlink:href=\"#DejaVuSans-48\"/>\n      </g>\n     </g>\n    </g>\n    <g id=\"ytick_8\">\n     <g id=\"line2d_13\">\n      <g>\n       <use style=\"stroke:#000000;stroke-width:0.8;\" x=\"54.392188\" xlink:href=\"#m271108ee9b\" y=\"16.423707\"/>\n      </g>\n     </g>\n     <g id=\"text_13\">\n      <!-- 0 -->\n      <g transform=\"translate(41.029688 20.222926)scale(0.1 -0.1)\">\n       <use xlink:href=\"#DejaVuSans-48\"/>\n      </g>\n     </g>\n    </g>\n   </g>\n   <g id=\"patch_3\">\n    <path d=\"M 54.392188 224.64 \nL 54.392188 7.2 \n\" style=\"fill:none;stroke:#000000;stroke-linecap:square;stroke-linejoin:miter;stroke-width:0.8;\"/>\n   </g>\n   <g id=\"patch_4\">\n    <path d=\"M 389.192187 224.64 \nL 389.192187 7.2 \n\" style=\"fill:none;stroke:#000000;stroke-linecap:square;stroke-linejoin:miter;stroke-width:0.8;\"/>\n   </g>\n   <g id=\"patch_5\">\n    <path d=\"M 54.392188 224.64 \nL 389.192188 224.64 \n\" style=\"fill:none;stroke:#000000;stroke-linecap:square;stroke-linejoin:miter;stroke-width:0.8;\"/>\n   </g>\n   <g id=\"patch_6\">\n    <path d=\"M 54.392188 7.2 \nL 389.192188 7.2 \n\" style=\"fill:none;stroke:#000000;stroke-linecap:square;stroke-linejoin:miter;stroke-width:0.8;\"/>\n   </g>\n  </g>\n </g>\n <defs>\n  <clipPath id=\"p8873651492\">\n   <rect height=\"217.44\" width=\"334.8\" x=\"54.392188\" y=\"7.2\"/>\n  </clipPath>\n </defs>\n</svg>\n",
      "image/png": "[encoded data removed]"
     },
     "metadata": {
      "needs_background": "light"
     }
    }
   ],
   "source": [
    "import matplotlib.pyplot as plt\n",
    "print(likelihoods[5000])\n",
    "x = np.arange(len(likelihoods))\n",
    "plt.scatter(x,likelihoods)"
   ]
  },
  {
   "cell_type": "code",
   "execution_count": null,
   "metadata": {},
   "outputs": [],
   "source": []
  }
 ]
}