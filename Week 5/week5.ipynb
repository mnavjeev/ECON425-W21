{
 "metadata": {
  "language_info": {
   "codemirror_mode": {
    "name": "ipython",
    "version": 3
   },
   "file_extension": ".py",
   "mimetype": "text/x-python",
   "name": "python",
   "nbconvert_exporter": "python",
   "pygments_lexer": "ipython3",
   "version": "3.7.4-final"
  },
  "orig_nbformat": 2,
  "kernelspec": {
   "name": "python3",
   "display_name": "Python 3",
   "language": "python"
  }
 },
 "nbformat": 4,
 "nbformat_minor": 2,
 "cells": [
  {
   "source": [
    "# Week 3: Classification\n",
    "\n",
    "In this section we will apply what we have learned about the logistic regression model to fit a model and make predictions. We will be using the `penguins` dataset from `seaborn` and try to predict where or not a penguin is of Adelie species.\n",
    "\n",
    "We will build a Logistic Regression model from scratch and see how it compares to \n"
   ],
   "cell_type": "markdown",
   "metadata": {}
  },
  {
   "cell_type": "code",
   "execution_count": 9,
   "metadata": {},
   "outputs": [
    {
     "output_type": "stream",
     "name": "stdout",
     "text": [
      "Data Shape,  (344, 8)\n  species     island  bill_length_mm  ...  body_mass_g     sex  Adelie\n0  Adelie  Torgersen            39.1  ...       3750.0    MALE       1\n1  Adelie  Torgersen            39.5  ...       3800.0  FEMALE       1\n2  Adelie  Torgersen            40.3  ...       3250.0  FEMALE       1\n3  Adelie  Torgersen             NaN  ...          NaN     NaN       1\n4  Adelie  Torgersen            36.7  ...       3450.0  FEMALE       1\n\n[5 rows x 8 columns]\n0.4418604651162791\nIndex(['species', 'island', 'bill_length_mm', 'bill_depth_mm',\n       'flipper_length_mm', 'body_mass_g', 'sex', 'Adelie'],\n      dtype='object')\n"
     ]
    }
   ],
   "source": [
    "# Code for Week 5\n",
    "import pandas as pd\n",
    "import numpy as np\n",
    "import seaborn as sns\n",
    "\n",
    "# Import penguins\n",
    "penguins = sns.load_dataset(\"penguins\")\n",
    "penguins[\"Adelie\"] = 1*(penguins[\"species\"] == \"Adelie\")\n",
    "\n",
    "print(\"Data Shape, \",penguins.shape)\n",
    "\n",
    "# Take a look at the columns\n",
    "print(penguins.head())\n",
    "\n",
    "# What percentage of our data is Adelie\n",
    "print(np.mean(penguins.Adelie))\n",
    "\n",
    "# What features do we have\n",
    "print(penguins.columns)\n",
    "\n",
    "\n",
    "\n",
    "\n",
    "\n",
    "\n"
   ]
  },
  {
   "source": [],
   "cell_type": "markdown",
   "metadata": {}
  }
 ]
}